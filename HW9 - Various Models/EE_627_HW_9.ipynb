{
 "cells": [
  {
   "cell_type": "code",
   "execution_count": 1,
   "id": "e34f6862",
   "metadata": {},
   "outputs": [
    {
     "name": "stdout",
     "output_type": "stream",
     "text": [
      "Requirement already satisfied: pyspark in ./opt/anaconda3/lib/python3.8/site-packages (3.2.0)\r\n",
      "Requirement already satisfied: py4j==0.10.9.2 in ./opt/anaconda3/lib/python3.8/site-packages (from pyspark) (0.10.9.2)\r\n"
     ]
    }
   ],
   "source": [
    "!pip3 install pyspark"
   ]
  },
  {
   "cell_type": "code",
   "execution_count": 2,
   "id": "6aa79db6",
   "metadata": {},
   "outputs": [],
   "source": [
    "from pyspark.sql import SparkSession\n",
    "from pyspark.sql.functions import col\n",
    "from pyspark.sql.functions import lit\n",
    "from pyspark.ml.feature import OneHotEncoder, StringIndexer, VectorAssembler   \n",
    "from pyspark.ml.evaluation import MulticlassClassificationEvaluator\n",
    "import matplotlib.pyplot as plt\n",
    "import pandas as pd\n",
    "import numpy as np    "
   ]
  },
  {
   "cell_type": "code",
   "execution_count": 3,
   "id": "fc6d60bf",
   "metadata": {},
   "outputs": [
    {
     "name": "stderr",
     "output_type": "stream",
     "text": [
      "21/11/21 18:02:00 WARN Utils: Your hostname, dylans-MacBook-Pro.local resolves to a loopback address: 127.0.0.1; using 192.168.1.125 instead (on interface en0)\n",
      "21/11/21 18:02:00 WARN Utils: Set SPARK_LOCAL_IP if you need to bind to another address\n",
      "Using Spark's default log4j profile: org/apache/spark/log4j-defaults.properties\n",
      "Setting default log level to \"WARN\".\n",
      "To adjust logging level use sc.setLogLevel(newLevel). For SparkR, use setLogLevel(newLevel).\n",
      "21/11/21 18:02:00 WARN NativeCodeLoader: Unable to load native-hadoop library for your platform... using builtin-java classes where applicable\n"
     ]
    }
   ],
   "source": [
    "spark = SparkSession.builder.appName('HW 9').getOrCreate()"
   ]
  },
  {
   "cell_type": "code",
   "execution_count": 4,
   "id": "b875f0bb",
   "metadata": {},
   "outputs": [
    {
     "data": {
      "text/html": [
       "\n",
       "            <div>\n",
       "                <p><b>SparkSession - in-memory</b></p>\n",
       "                \n",
       "        <div>\n",
       "            <p><b>SparkContext</b></p>\n",
       "\n",
       "            <p><a href=\"http://192.168.1.125:4040\">Spark UI</a></p>\n",
       "\n",
       "            <dl>\n",
       "              <dt>Version</dt>\n",
       "                <dd><code>v3.2.0</code></dd>\n",
       "              <dt>Master</dt>\n",
       "                <dd><code>local[*]</code></dd>\n",
       "              <dt>AppName</dt>\n",
       "                <dd><code>HW 9</code></dd>\n",
       "            </dl>\n",
       "        </div>\n",
       "        \n",
       "            </div>\n",
       "        "
      ],
      "text/plain": [
       "<pyspark.sql.session.SparkSession at 0x7ff1633c84c0>"
      ]
     },
     "execution_count": 4,
     "metadata": {},
     "output_type": "execute_result"
    }
   ],
   "source": [
    "spark"
   ]
  },
  {
   "cell_type": "code",
   "execution_count": 5,
   "id": "db89e241",
   "metadata": {},
   "outputs": [
    {
     "data": {
      "text/html": [
       "<div>\n",
       "<style scoped>\n",
       "    .dataframe tbody tr th:only-of-type {\n",
       "        vertical-align: middle;\n",
       "    }\n",
       "\n",
       "    .dataframe tbody tr th {\n",
       "        vertical-align: top;\n",
       "    }\n",
       "\n",
       "    .dataframe thead th {\n",
       "        text-align: right;\n",
       "    }\n",
       "</style>\n",
       "<table border=\"1\" class=\"dataframe\">\n",
       "  <thead>\n",
       "    <tr style=\"text-align: right;\">\n",
       "      <th></th>\n",
       "      <th>userID</th>\n",
       "      <th>trackID</th>\n",
       "      <th>predictions</th>\n",
       "    </tr>\n",
       "  </thead>\n",
       "  <tbody>\n",
       "    <tr>\n",
       "      <th>0</th>\n",
       "      <td>200031</td>\n",
       "      <td>30877</td>\n",
       "      <td>1</td>\n",
       "    </tr>\n",
       "    <tr>\n",
       "      <th>1</th>\n",
       "      <td>200031</td>\n",
       "      <td>8244</td>\n",
       "      <td>1</td>\n",
       "    </tr>\n",
       "    <tr>\n",
       "      <th>2</th>\n",
       "      <td>200031</td>\n",
       "      <td>130183</td>\n",
       "      <td>0</td>\n",
       "    </tr>\n",
       "    <tr>\n",
       "      <th>3</th>\n",
       "      <td>200031</td>\n",
       "      <td>198762</td>\n",
       "      <td>0</td>\n",
       "    </tr>\n",
       "    <tr>\n",
       "      <th>4</th>\n",
       "      <td>200031</td>\n",
       "      <td>34503</td>\n",
       "      <td>1</td>\n",
       "    </tr>\n",
       "  </tbody>\n",
       "</table>\n",
       "</div>"
      ],
      "text/plain": [
       "   userID  trackID  predictions\n",
       "0  200031    30877            1\n",
       "1  200031     8244            1\n",
       "2  200031   130183            0\n",
       "3  200031   198762            0\n",
       "4  200031    34503            1"
      ]
     },
     "execution_count": 5,
     "metadata": {},
     "output_type": "execute_result"
    }
   ],
   "source": [
    "data_df = pd.read_csv(\"test2_new.txt\", sep='|', names=['userID', 'trackID', 'predictions'])\n",
    "data_df.head()"
   ]
  },
  {
   "cell_type": "code",
   "execution_count": 6,
   "id": "7848797a",
   "metadata": {},
   "outputs": [
    {
     "data": {
      "text/html": [
       "<div>\n",
       "<style scoped>\n",
       "    .dataframe tbody tr th:only-of-type {\n",
       "        vertical-align: middle;\n",
       "    }\n",
       "\n",
       "    .dataframe tbody tr th {\n",
       "        vertical-align: top;\n",
       "    }\n",
       "\n",
       "    .dataframe thead th {\n",
       "        text-align: right;\n",
       "    }\n",
       "</style>\n",
       "<table border=\"1\" class=\"dataframe\">\n",
       "  <thead>\n",
       "    <tr style=\"text-align: right;\">\n",
       "      <th></th>\n",
       "      <th>userID</th>\n",
       "      <th>trackID</th>\n",
       "      <th>album_score</th>\n",
       "      <th>artist_score</th>\n",
       "    </tr>\n",
       "  </thead>\n",
       "  <tbody>\n",
       "    <tr>\n",
       "      <th>0</th>\n",
       "      <td>199810</td>\n",
       "      <td>208019</td>\n",
       "      <td>0.0</td>\n",
       "      <td>0.0</td>\n",
       "    </tr>\n",
       "    <tr>\n",
       "      <th>1</th>\n",
       "      <td>199810</td>\n",
       "      <td>74139</td>\n",
       "      <td>0.0</td>\n",
       "      <td>0.0</td>\n",
       "    </tr>\n",
       "    <tr>\n",
       "      <th>2</th>\n",
       "      <td>199810</td>\n",
       "      <td>9903</td>\n",
       "      <td>0.0</td>\n",
       "      <td>0.0</td>\n",
       "    </tr>\n",
       "    <tr>\n",
       "      <th>3</th>\n",
       "      <td>199810</td>\n",
       "      <td>242681</td>\n",
       "      <td>0.0</td>\n",
       "      <td>0.0</td>\n",
       "    </tr>\n",
       "    <tr>\n",
       "      <th>4</th>\n",
       "      <td>199810</td>\n",
       "      <td>18515</td>\n",
       "      <td>0.0</td>\n",
       "      <td>70.0</td>\n",
       "    </tr>\n",
       "  </tbody>\n",
       "</table>\n",
       "</div>"
      ],
      "text/plain": [
       "   userID  trackID  album_score  artist_score\n",
       "0  199810   208019          0.0           0.0\n",
       "1  199810    74139          0.0           0.0\n",
       "2  199810     9903          0.0           0.0\n",
       "3  199810   242681          0.0           0.0\n",
       "4  199810    18515          0.0          70.0"
      ]
     },
     "execution_count": 6,
     "metadata": {},
     "output_type": "execute_result"
    }
   ],
   "source": [
    "data2_df = pd.read_csv(\"output1.txt\", sep='|', names=['userID', 'trackID', 'album_score', 'artist_score'])\n",
    "data2_df.head()"
   ]
  },
  {
   "cell_type": "code",
   "execution_count": 7,
   "id": "8021b72b",
   "metadata": {},
   "outputs": [
    {
     "data": {
      "text/plain": [
       "Index([], dtype='object')"
      ]
     },
     "execution_count": 7,
     "metadata": {},
     "output_type": "execute_result"
    }
   ],
   "source": [
    "data2_df.columns[data2_df.isnull().any()] # check for null values"
   ]
  },
  {
   "cell_type": "code",
   "execution_count": 8,
   "id": "81d19a46",
   "metadata": {},
   "outputs": [
    {
     "data": {
      "text/html": [
       "<div>\n",
       "<style scoped>\n",
       "    .dataframe tbody tr th:only-of-type {\n",
       "        vertical-align: middle;\n",
       "    }\n",
       "\n",
       "    .dataframe tbody tr th {\n",
       "        vertical-align: top;\n",
       "    }\n",
       "\n",
       "    .dataframe thead th {\n",
       "        text-align: right;\n",
       "    }\n",
       "</style>\n",
       "<table border=\"1\" class=\"dataframe\">\n",
       "  <thead>\n",
       "    <tr style=\"text-align: right;\">\n",
       "      <th></th>\n",
       "      <th>userID</th>\n",
       "      <th>trackID</th>\n",
       "      <th>predictions</th>\n",
       "      <th>album_score</th>\n",
       "      <th>artist_score</th>\n",
       "    </tr>\n",
       "  </thead>\n",
       "  <tbody>\n",
       "    <tr>\n",
       "      <th>0</th>\n",
       "      <td>200031</td>\n",
       "      <td>30877</td>\n",
       "      <td>1</td>\n",
       "      <td>90.0</td>\n",
       "      <td>50.0</td>\n",
       "    </tr>\n",
       "    <tr>\n",
       "      <th>1</th>\n",
       "      <td>200031</td>\n",
       "      <td>8244</td>\n",
       "      <td>1</td>\n",
       "      <td>90.0</td>\n",
       "      <td>0.0</td>\n",
       "    </tr>\n",
       "    <tr>\n",
       "      <th>2</th>\n",
       "      <td>200031</td>\n",
       "      <td>130183</td>\n",
       "      <td>0</td>\n",
       "      <td>0.0</td>\n",
       "      <td>0.0</td>\n",
       "    </tr>\n",
       "    <tr>\n",
       "      <th>3</th>\n",
       "      <td>200031</td>\n",
       "      <td>198762</td>\n",
       "      <td>0</td>\n",
       "      <td>0.0</td>\n",
       "      <td>0.0</td>\n",
       "    </tr>\n",
       "    <tr>\n",
       "      <th>4</th>\n",
       "      <td>200031</td>\n",
       "      <td>34503</td>\n",
       "      <td>1</td>\n",
       "      <td>90.0</td>\n",
       "      <td>50.0</td>\n",
       "    </tr>\n",
       "  </tbody>\n",
       "</table>\n",
       "</div>"
      ],
      "text/plain": [
       "   userID  trackID  predictions  album_score  artist_score\n",
       "0  200031    30877            1         90.0          50.0\n",
       "1  200031     8244            1         90.0           0.0\n",
       "2  200031   130183            0          0.0           0.0\n",
       "3  200031   198762            0          0.0           0.0\n",
       "4  200031    34503            1         90.0          50.0"
      ]
     },
     "execution_count": 8,
     "metadata": {},
     "output_type": "execute_result"
    }
   ],
   "source": [
    "scores_df = data_df.merge(data2_df, how='inner', on=['userID', 'trackID']) # inner join the dataframes\n",
    "scores_df.head()"
   ]
  },
  {
   "cell_type": "code",
   "execution_count": 9,
   "id": "7ead20b5",
   "metadata": {},
   "outputs": [
    {
     "data": {
      "text/plain": [
       "Index([], dtype='object')"
      ]
     },
     "execution_count": 9,
     "metadata": {},
     "output_type": "execute_result"
    }
   ],
   "source": [
    "scores_df.columns[scores_df.isnull().any()] # check for null values"
   ]
  },
  {
   "cell_type": "code",
   "execution_count": 10,
   "id": "c8ecba05",
   "metadata": {},
   "outputs": [
    {
     "data": {
      "text/plain": [
       "userID          6000\n",
       "trackID         6000\n",
       "predictions     6000\n",
       "album_score     6000\n",
       "artist_score    6000\n",
       "dtype: int64"
      ]
     },
     "execution_count": 10,
     "metadata": {},
     "output_type": "execute_result"
    }
   ],
   "source": [
    "scores_df.to_csv('ratings.csv', index=False)\n",
    "scores_df.count()"
   ]
  },
  {
   "cell_type": "code",
   "execution_count": 11,
   "id": "ca38f461",
   "metadata": {},
   "outputs": [
    {
     "name": "stderr",
     "output_type": "stream",
     "text": [
      "                                                                                \r"
     ]
    },
    {
     "name": "stdout",
     "output_type": "stream",
     "text": [
      "root\n",
      " |-- userID: integer (nullable = true)\n",
      " |-- trackID: integer (nullable = true)\n",
      " |-- predictions: integer (nullable = true)\n",
      " |-- album_score: double (nullable = true)\n",
      " |-- artist_score: double (nullable = true)\n",
      "\n"
     ]
    }
   ],
   "source": [
    "scores_df = spark.read.csv('ratings.csv', header=True, inferSchema=True)\n",
    "scores_df.printSchema()"
   ]
  },
  {
   "cell_type": "code",
   "execution_count": 12,
   "id": "1205f02a",
   "metadata": {},
   "outputs": [],
   "source": [
    "numericCols = ['album_score', 'artist_score']\n",
    "stages = []\n",
    "assemblerInputs =  numericCols\n",
    "assembler = VectorAssembler(inputCols=assemblerInputs, outputCol=\"features\")\n",
    "stages += [assembler]"
   ]
  },
  {
   "cell_type": "code",
   "execution_count": 13,
   "id": "f5f49e7c",
   "metadata": {},
   "outputs": [],
   "source": [
    "label_stringIdx = StringIndexer(inputCol = 'predictions', outputCol = 'label')\n",
    "stages += [label_stringIdx]"
   ]
  },
  {
   "cell_type": "code",
   "execution_count": 14,
   "id": "6c7d3a48",
   "metadata": {},
   "outputs": [
    {
     "name": "stderr",
     "output_type": "stream",
     "text": [
      "                                                                                \r"
     ]
    },
    {
     "name": "stdout",
     "output_type": "stream",
     "text": [
      "root\n",
      " |-- label: double (nullable = false)\n",
      " |-- features: vector (nullable = true)\n",
      " |-- userID: integer (nullable = true)\n",
      " |-- trackID: integer (nullable = true)\n",
      " |-- predictions: integer (nullable = true)\n",
      " |-- album_score: double (nullable = true)\n",
      " |-- artist_score: double (nullable = true)\n",
      "\n"
     ]
    }
   ],
   "source": [
    "from pyspark.ml import Pipeline\n",
    "pipeline = Pipeline(stages = stages)\n",
    "pipelineModel = pipeline.fit(scores_df)\n",
    "df = pipelineModel.transform(scores_df)\n",
    "cols = scores_df.columns\n",
    "selectedCols = ['label', 'features'] + cols\n",
    "df = df.select(selectedCols)\n",
    "df.printSchema()"
   ]
  },
  {
   "cell_type": "code",
   "execution_count": 15,
   "id": "c74717c2",
   "metadata": {},
   "outputs": [
    {
     "data": {
      "text/html": [
       "<div>\n",
       "<style scoped>\n",
       "    .dataframe tbody tr th:only-of-type {\n",
       "        vertical-align: middle;\n",
       "    }\n",
       "\n",
       "    .dataframe tbody tr th {\n",
       "        vertical-align: top;\n",
       "    }\n",
       "\n",
       "    .dataframe thead th {\n",
       "        text-align: right;\n",
       "    }\n",
       "</style>\n",
       "<table border=\"1\" class=\"dataframe\">\n",
       "  <thead>\n",
       "    <tr style=\"text-align: right;\">\n",
       "      <th></th>\n",
       "      <th>0</th>\n",
       "      <th>1</th>\n",
       "      <th>2</th>\n",
       "      <th>3</th>\n",
       "      <th>4</th>\n",
       "    </tr>\n",
       "  </thead>\n",
       "  <tbody>\n",
       "    <tr>\n",
       "      <th>label</th>\n",
       "      <td>1.0</td>\n",
       "      <td>1.0</td>\n",
       "      <td>0.0</td>\n",
       "      <td>0.0</td>\n",
       "      <td>1.0</td>\n",
       "    </tr>\n",
       "    <tr>\n",
       "      <th>features</th>\n",
       "      <td>[90.0, 50.0]</td>\n",
       "      <td>[90.0, 0.0]</td>\n",
       "      <td>(0.0, 0.0)</td>\n",
       "      <td>(0.0, 0.0)</td>\n",
       "      <td>[90.0, 50.0]</td>\n",
       "    </tr>\n",
       "    <tr>\n",
       "      <th>userID</th>\n",
       "      <td>200031</td>\n",
       "      <td>200031</td>\n",
       "      <td>200031</td>\n",
       "      <td>200031</td>\n",
       "      <td>200031</td>\n",
       "    </tr>\n",
       "    <tr>\n",
       "      <th>trackID</th>\n",
       "      <td>30877</td>\n",
       "      <td>8244</td>\n",
       "      <td>130183</td>\n",
       "      <td>198762</td>\n",
       "      <td>34503</td>\n",
       "    </tr>\n",
       "    <tr>\n",
       "      <th>predictions</th>\n",
       "      <td>1</td>\n",
       "      <td>1</td>\n",
       "      <td>0</td>\n",
       "      <td>0</td>\n",
       "      <td>1</td>\n",
       "    </tr>\n",
       "    <tr>\n",
       "      <th>album_score</th>\n",
       "      <td>90.0</td>\n",
       "      <td>90.0</td>\n",
       "      <td>0.0</td>\n",
       "      <td>0.0</td>\n",
       "      <td>90.0</td>\n",
       "    </tr>\n",
       "    <tr>\n",
       "      <th>artist_score</th>\n",
       "      <td>50.0</td>\n",
       "      <td>0.0</td>\n",
       "      <td>0.0</td>\n",
       "      <td>0.0</td>\n",
       "      <td>50.0</td>\n",
       "    </tr>\n",
       "  </tbody>\n",
       "</table>\n",
       "</div>"
      ],
      "text/plain": [
       "                         0            1           2           3             4\n",
       "label                  1.0          1.0         0.0         0.0           1.0\n",
       "features      [90.0, 50.0]  [90.0, 0.0]  (0.0, 0.0)  (0.0, 0.0)  [90.0, 50.0]\n",
       "userID              200031       200031      200031      200031        200031\n",
       "trackID              30877         8244      130183      198762         34503\n",
       "predictions              1            1           0           0             1\n",
       "album_score           90.0         90.0         0.0         0.0          90.0\n",
       "artist_score          50.0          0.0         0.0         0.0          50.0"
      ]
     },
     "execution_count": 15,
     "metadata": {},
     "output_type": "execute_result"
    }
   ],
   "source": [
    "pd.DataFrame(df.take(5), columns=df.columns).transpose()"
   ]
  },
  {
   "cell_type": "code",
   "execution_count": 16,
   "id": "ca4a4f2c",
   "metadata": {},
   "outputs": [
    {
     "name": "stdout",
     "output_type": "stream",
     "text": [
      "Training Dataset Count: 4260\n",
      "Test Dataset Count: 1740\n"
     ]
    }
   ],
   "source": [
    "# below is the typical random split \n",
    "# of the train and test data sets\n",
    "# HOWEVER, our testing users have 6 tracks for each\n",
    "# We cannot use random split here\n",
    "train, test = df.randomSplit([0.7, 0.3], seed = 2018)\n",
    "print(\"Training Dataset Count: \" + str(train.count()))\n",
    "print(\"Test Dataset Count: \" + str(test.count()))"
   ]
  },
  {
   "cell_type": "code",
   "execution_count": 17,
   "id": "5a400741",
   "metadata": {},
   "outputs": [],
   "source": [
    "predictions_df = spark.read.csv('output1.txt', sep='|', inferSchema=True)"
   ]
  },
  {
   "cell_type": "code",
   "execution_count": 18,
   "id": "73fe070e",
   "metadata": {},
   "outputs": [
    {
     "data": {
      "text/plain": [
       "120000"
      ]
     },
     "execution_count": 18,
     "metadata": {},
     "output_type": "execute_result"
    }
   ],
   "source": [
    "predictions_df.count()"
   ]
  },
  {
   "cell_type": "code",
   "execution_count": 19,
   "id": "430dc50a",
   "metadata": {},
   "outputs": [
    {
     "data": {
      "text/plain": [
       "DataFrame[_c0: int, _c1: int, _c2: double, _c3: double]"
      ]
     },
     "execution_count": 19,
     "metadata": {},
     "output_type": "execute_result"
    }
   ],
   "source": [
    "predictions_df"
   ]
  },
  {
   "cell_type": "code",
   "execution_count": 20,
   "id": "6fb5a5ce",
   "metadata": {},
   "outputs": [],
   "source": [
    "predictions_df = predictions_df.withColumnRenamed(\"_c0\", \"userID\").withColumnRenamed(\"_c1\", \"trackID\").withColumnRenamed(\"_c2\", \"album_score\").withColumnRenamed(\"_c3\", \"artist_score\")"
   ]
  },
  {
   "cell_type": "code",
   "execution_count": 21,
   "id": "0afa6b78",
   "metadata": {},
   "outputs": [
    {
     "data": {
      "text/plain": [
       "['userID', 'trackID', 'album_score', 'artist_score']"
      ]
     },
     "execution_count": 21,
     "metadata": {},
     "output_type": "execute_result"
    }
   ],
   "source": [
    "predictions_columns = predictions_df.columns\n",
    "predictions_columns"
   ]
  },
  {
   "cell_type": "code",
   "execution_count": 22,
   "id": "aeff76ae",
   "metadata": {},
   "outputs": [],
   "source": [
    "predictions_df = predictions_df.withColumn('prediction', lit('0'))\n"
   ]
  },
  {
   "cell_type": "code",
   "execution_count": 23,
   "id": "e7e6980d",
   "metadata": {},
   "outputs": [
    {
     "data": {
      "text/html": [
       "<div>\n",
       "<style scoped>\n",
       "    .dataframe tbody tr th:only-of-type {\n",
       "        vertical-align: middle;\n",
       "    }\n",
       "\n",
       "    .dataframe tbody tr th {\n",
       "        vertical-align: top;\n",
       "    }\n",
       "\n",
       "    .dataframe thead th {\n",
       "        text-align: right;\n",
       "    }\n",
       "</style>\n",
       "<table border=\"1\" class=\"dataframe\">\n",
       "  <thead>\n",
       "    <tr style=\"text-align: right;\">\n",
       "      <th></th>\n",
       "      <th>0</th>\n",
       "      <th>1</th>\n",
       "      <th>2</th>\n",
       "      <th>3</th>\n",
       "      <th>4</th>\n",
       "      <th>5</th>\n",
       "      <th>6</th>\n",
       "      <th>7</th>\n",
       "      <th>8</th>\n",
       "      <th>9</th>\n",
       "    </tr>\n",
       "  </thead>\n",
       "  <tbody>\n",
       "    <tr>\n",
       "      <th>userID</th>\n",
       "      <td>199810</td>\n",
       "      <td>199810</td>\n",
       "      <td>199810</td>\n",
       "      <td>199810</td>\n",
       "      <td>199810</td>\n",
       "      <td>199810</td>\n",
       "      <td>199812</td>\n",
       "      <td>199812</td>\n",
       "      <td>199812</td>\n",
       "      <td>199812</td>\n",
       "    </tr>\n",
       "    <tr>\n",
       "      <th>trackID</th>\n",
       "      <td>208019</td>\n",
       "      <td>74139</td>\n",
       "      <td>9903</td>\n",
       "      <td>242681</td>\n",
       "      <td>18515</td>\n",
       "      <td>105760</td>\n",
       "      <td>276940</td>\n",
       "      <td>142408</td>\n",
       "      <td>130023</td>\n",
       "      <td>29189</td>\n",
       "    </tr>\n",
       "    <tr>\n",
       "      <th>album_score</th>\n",
       "      <td>0.0</td>\n",
       "      <td>0.0</td>\n",
       "      <td>0.0</td>\n",
       "      <td>0.0</td>\n",
       "      <td>0.0</td>\n",
       "      <td>0.0</td>\n",
       "      <td>0.0</td>\n",
       "      <td>100.0</td>\n",
       "      <td>100.0</td>\n",
       "      <td>0.0</td>\n",
       "    </tr>\n",
       "    <tr>\n",
       "      <th>artist_score</th>\n",
       "      <td>0.0</td>\n",
       "      <td>0.0</td>\n",
       "      <td>0.0</td>\n",
       "      <td>0.0</td>\n",
       "      <td>70.0</td>\n",
       "      <td>90.0</td>\n",
       "      <td>0.0</td>\n",
       "      <td>100.0</td>\n",
       "      <td>100.0</td>\n",
       "      <td>0.0</td>\n",
       "    </tr>\n",
       "    <tr>\n",
       "      <th>prediction</th>\n",
       "      <td>0</td>\n",
       "      <td>0</td>\n",
       "      <td>0</td>\n",
       "      <td>0</td>\n",
       "      <td>0</td>\n",
       "      <td>0</td>\n",
       "      <td>0</td>\n",
       "      <td>0</td>\n",
       "      <td>0</td>\n",
       "      <td>0</td>\n",
       "    </tr>\n",
       "  </tbody>\n",
       "</table>\n",
       "</div>"
      ],
      "text/plain": [
       "                   0       1       2       3       4       5       6       7  \\\n",
       "userID        199810  199810  199810  199810  199810  199810  199812  199812   \n",
       "trackID       208019   74139    9903  242681   18515  105760  276940  142408   \n",
       "album_score      0.0     0.0     0.0     0.0     0.0     0.0     0.0   100.0   \n",
       "artist_score     0.0     0.0     0.0     0.0    70.0    90.0     0.0   100.0   \n",
       "prediction         0       0       0       0       0       0       0       0   \n",
       "\n",
       "                   8       9  \n",
       "userID        199812  199812  \n",
       "trackID       130023   29189  \n",
       "album_score    100.0     0.0  \n",
       "artist_score   100.0     0.0  \n",
       "prediction         0       0  "
      ]
     },
     "execution_count": 23,
     "metadata": {},
     "output_type": "execute_result"
    }
   ],
   "source": [
    "pd.DataFrame(predictions_df.take(10), columns=predictions_df.columns).transpose()"
   ]
  },
  {
   "cell_type": "code",
   "execution_count": 24,
   "id": "887c4f9d",
   "metadata": {},
   "outputs": [
    {
     "name": "stdout",
     "output_type": "stream",
     "text": [
      "root\n",
      " |-- userID: integer (nullable = true)\n",
      " |-- trackID: integer (nullable = true)\n",
      " |-- album_score: double (nullable = true)\n",
      " |-- artist_score: double (nullable = true)\n",
      " |-- prediction: string (nullable = false)\n",
      "\n"
     ]
    }
   ],
   "source": [
    "predictions_df.printSchema()\n"
   ]
  },
  {
   "cell_type": "code",
   "execution_count": 25,
   "id": "d28ae41c",
   "metadata": {},
   "outputs": [],
   "source": [
    "numericCols = ['album_score', 'artist_score']\n",
    "stages = []\n",
    "assemblerInputs =  numericCols\n",
    "assembler = VectorAssembler(inputCols=assemblerInputs, outputCol=\"features\")\n",
    "stages += [assembler]"
   ]
  },
  {
   "cell_type": "code",
   "execution_count": 26,
   "id": "9867b4b7",
   "metadata": {},
   "outputs": [],
   "source": [
    "label_stringIdx = StringIndexer(inputCol = 'prediction', outputCol = 'label')\n",
    "stages += [label_stringIdx]"
   ]
  },
  {
   "cell_type": "code",
   "execution_count": 27,
   "id": "cdc50c34",
   "metadata": {},
   "outputs": [],
   "source": [
    "predictions_pipeline = Pipeline(stages=stages)                       \n",
    "predictions_pipeline_model = predictions_pipeline.fit(predictions_df)\n",
    "predictions_df = predictions_pipeline_model.transform(predictions_df)"
   ]
  },
  {
   "cell_type": "code",
   "execution_count": 28,
   "id": "390af191",
   "metadata": {},
   "outputs": [
    {
     "name": "stdout",
     "output_type": "stream",
     "text": [
      "root\n",
      " |-- label: double (nullable = false)\n",
      " |-- features: vector (nullable = true)\n",
      " |-- userID: integer (nullable = true)\n",
      " |-- trackID: integer (nullable = true)\n",
      " |-- album_score: double (nullable = true)\n",
      " |-- artist_score: double (nullable = true)\n",
      "\n"
     ]
    }
   ],
   "source": [
    "selected_columns = ['label', 'features'] + predictions_columns\n",
    "predictions_df = predictions_df.select(selected_columns)\n",
    "predictions_df.printSchema()"
   ]
  },
  {
   "cell_type": "code",
   "execution_count": 29,
   "id": "8d9a0709",
   "metadata": {},
   "outputs": [
    {
     "data": {
      "text/html": [
       "<div>\n",
       "<style scoped>\n",
       "    .dataframe tbody tr th:only-of-type {\n",
       "        vertical-align: middle;\n",
       "    }\n",
       "\n",
       "    .dataframe tbody tr th {\n",
       "        vertical-align: top;\n",
       "    }\n",
       "\n",
       "    .dataframe thead th {\n",
       "        text-align: right;\n",
       "    }\n",
       "</style>\n",
       "<table border=\"1\" class=\"dataframe\">\n",
       "  <thead>\n",
       "    <tr style=\"text-align: right;\">\n",
       "      <th></th>\n",
       "      <th>0</th>\n",
       "      <th>1</th>\n",
       "      <th>2</th>\n",
       "      <th>3</th>\n",
       "      <th>4</th>\n",
       "      <th>5</th>\n",
       "      <th>6</th>\n",
       "      <th>7</th>\n",
       "      <th>8</th>\n",
       "      <th>9</th>\n",
       "    </tr>\n",
       "  </thead>\n",
       "  <tbody>\n",
       "    <tr>\n",
       "      <th>label</th>\n",
       "      <td>0.0</td>\n",
       "      <td>0.0</td>\n",
       "      <td>0.0</td>\n",
       "      <td>0.0</td>\n",
       "      <td>0.0</td>\n",
       "      <td>0.0</td>\n",
       "      <td>0.0</td>\n",
       "      <td>0.0</td>\n",
       "      <td>0.0</td>\n",
       "      <td>0.0</td>\n",
       "    </tr>\n",
       "    <tr>\n",
       "      <th>features</th>\n",
       "      <td>(0.0, 0.0)</td>\n",
       "      <td>(0.0, 0.0)</td>\n",
       "      <td>(0.0, 0.0)</td>\n",
       "      <td>(0.0, 0.0)</td>\n",
       "      <td>[0.0, 70.0]</td>\n",
       "      <td>[0.0, 90.0]</td>\n",
       "      <td>(0.0, 0.0)</td>\n",
       "      <td>[100.0, 100.0]</td>\n",
       "      <td>[100.0, 100.0]</td>\n",
       "      <td>(0.0, 0.0)</td>\n",
       "    </tr>\n",
       "    <tr>\n",
       "      <th>userID</th>\n",
       "      <td>199810</td>\n",
       "      <td>199810</td>\n",
       "      <td>199810</td>\n",
       "      <td>199810</td>\n",
       "      <td>199810</td>\n",
       "      <td>199810</td>\n",
       "      <td>199812</td>\n",
       "      <td>199812</td>\n",
       "      <td>199812</td>\n",
       "      <td>199812</td>\n",
       "    </tr>\n",
       "    <tr>\n",
       "      <th>trackID</th>\n",
       "      <td>208019</td>\n",
       "      <td>74139</td>\n",
       "      <td>9903</td>\n",
       "      <td>242681</td>\n",
       "      <td>18515</td>\n",
       "      <td>105760</td>\n",
       "      <td>276940</td>\n",
       "      <td>142408</td>\n",
       "      <td>130023</td>\n",
       "      <td>29189</td>\n",
       "    </tr>\n",
       "    <tr>\n",
       "      <th>album_score</th>\n",
       "      <td>0.0</td>\n",
       "      <td>0.0</td>\n",
       "      <td>0.0</td>\n",
       "      <td>0.0</td>\n",
       "      <td>0.0</td>\n",
       "      <td>0.0</td>\n",
       "      <td>0.0</td>\n",
       "      <td>100.0</td>\n",
       "      <td>100.0</td>\n",
       "      <td>0.0</td>\n",
       "    </tr>\n",
       "    <tr>\n",
       "      <th>artist_score</th>\n",
       "      <td>0.0</td>\n",
       "      <td>0.0</td>\n",
       "      <td>0.0</td>\n",
       "      <td>0.0</td>\n",
       "      <td>70.0</td>\n",
       "      <td>90.0</td>\n",
       "      <td>0.0</td>\n",
       "      <td>100.0</td>\n",
       "      <td>100.0</td>\n",
       "      <td>0.0</td>\n",
       "    </tr>\n",
       "  </tbody>\n",
       "</table>\n",
       "</div>"
      ],
      "text/plain": [
       "                       0           1           2           3            4  \\\n",
       "label                0.0         0.0         0.0         0.0          0.0   \n",
       "features      (0.0, 0.0)  (0.0, 0.0)  (0.0, 0.0)  (0.0, 0.0)  [0.0, 70.0]   \n",
       "userID            199810      199810      199810      199810       199810   \n",
       "trackID           208019       74139        9903      242681        18515   \n",
       "album_score          0.0         0.0         0.0         0.0          0.0   \n",
       "artist_score         0.0         0.0         0.0         0.0         70.0   \n",
       "\n",
       "                        5           6               7               8  \\\n",
       "label                 0.0         0.0             0.0             0.0   \n",
       "features      [0.0, 90.0]  (0.0, 0.0)  [100.0, 100.0]  [100.0, 100.0]   \n",
       "userID             199810      199812          199812          199812   \n",
       "trackID            105760      276940          142408          130023   \n",
       "album_score           0.0         0.0           100.0           100.0   \n",
       "artist_score         90.0         0.0           100.0           100.0   \n",
       "\n",
       "                       9  \n",
       "label                0.0  \n",
       "features      (0.0, 0.0)  \n",
       "userID            199812  \n",
       "trackID            29189  \n",
       "album_score          0.0  \n",
       "artist_score         0.0  "
      ]
     },
     "execution_count": 29,
     "metadata": {},
     "output_type": "execute_result"
    }
   ],
   "source": [
    "pd.DataFrame(predictions_df.take(10), columns=predictions_df.columns).transpose()"
   ]
  },
  {
   "cell_type": "markdown",
   "id": "320a83c1",
   "metadata": {},
   "source": [
    "# 1. Logistic regression model"
   ]
  },
  {
   "cell_type": "code",
   "execution_count": 30,
   "id": "de6ea2df",
   "metadata": {},
   "outputs": [],
   "source": [
    "from pyspark.ml.classification import LogisticRegression"
   ]
  },
  {
   "cell_type": "code",
   "execution_count": 31,
   "id": "140a40d0",
   "metadata": {},
   "outputs": [],
   "source": [
    "logistic_regression = LogisticRegression(featuresCol = 'features', labelCol = 'label',)\n",
    "logistic_regression_model = logistic_regression.fit(train)"
   ]
  },
  {
   "cell_type": "code",
   "execution_count": 32,
   "id": "f6a418a1",
   "metadata": {},
   "outputs": [
    {
     "data": {
      "image/png": "[encoded data removed]",
      "text/plain": [
       "<Figure size 432x288 with 1 Axes>"
      ]
     },
     "metadata": {
      "needs_background": "light"
     },
     "output_type": "display_data"
    }
   ],
   "source": [
    "beta = np.sort(logistic_regression_model.coefficients)\n",
    "plt.plot(beta)\n",
    "plt.ylabel('Beta Coefficients')\n",
    "plt.show()"
   ]
  },
  {
   "cell_type": "code",
   "execution_count": 33,
   "id": "d8687233",
   "metadata": {},
   "outputs": [
    {
     "name": "stderr",
     "output_type": "stream",
     "text": [
      "/Users/dylan/opt/anaconda3/lib/python3.8/site-packages/pyspark/sql/context.py:125: FutureWarning: Deprecated in 3.0.0. Use SparkSession.builder.getOrCreate() instead.\n",
      "  warnings.warn(\n"
     ]
    },
    {
     "data": {
      "image/png": "[encoded data removed]",
      "text/plain": [
       "<Figure size 432x288 with 1 Axes>"
      ]
     },
     "metadata": {
      "needs_background": "light"
     },
     "output_type": "display_data"
    },
    {
     "name": "stdout",
     "output_type": "stream",
     "text": [
      "Training set areaUnderROC: 0.8737133978552075\n"
     ]
    }
   ],
   "source": [
    "trainingSummary = logistic_regression_model.summary\n",
    "roc = trainingSummary.roc.toPandas()\n",
    "plt.plot(roc['FPR'],roc['TPR'])\n",
    "plt.ylabel('False Positive Rate')\n",
    "plt.xlabel('True Positive Rate')\n",
    "plt.title('ROC Curve')\n",
    "plt.show()\n",
    "print('Training set areaUnderROC: ' + str(trainingSummary.areaUnderROC))"
   ]
  },
  {
   "cell_type": "code",
   "execution_count": 34,
   "id": "271786f9",
   "metadata": {},
   "outputs": [
    {
     "name": "stdout",
     "output_type": "stream",
     "text": [
      "+------+-------+-----+--------------------+--------------------+----------+\n",
      "|userID|trackID|label|         probability|       rawPrediction|prediction|\n",
      "+------+-------+-----+--------------------+--------------------+----------+\n",
      "|200031| 130183|  0.0|[0.80218276453714...|[1.39999291666030...|       0.0|\n",
      "|200065| 179571|  0.0|[0.80218276453714...|[1.39999291666030...|       0.0|\n",
      "|200070| 124239|  0.0|[0.80218276453714...|[1.39999291666030...|       0.0|\n",
      "|200070| 271459|  0.0|[0.80218276453714...|[1.39999291666030...|       0.0|\n",
      "|200085| 134106|  0.0|[0.80218276453714...|[1.39999291666030...|       0.0|\n",
      "|200099|  41892|  0.0|[0.80218276453714...|[1.39999291666030...|       0.0|\n",
      "|200106| 152491|  0.0|[0.80218276453714...|[1.39999291666030...|       0.0|\n",
      "|200124| 284066|  0.0|[0.80218276453714...|[1.39999291666030...|       0.0|\n",
      "|200143| 131171|  0.0|[0.80218276453714...|[1.39999291666030...|       0.0|\n",
      "|200143| 187136|  0.0|[0.80218276453714...|[1.39999291666030...|       0.0|\n",
      "|200160| 231680|  0.0|[0.80218276453714...|[1.39999291666030...|       0.0|\n",
      "|200166| 193878|  0.0|[0.80218276453714...|[1.39999291666030...|       0.0|\n",
      "+------+-------+-----+--------------------+--------------------+----------+\n",
      "only showing top 12 rows\n",
      "\n"
     ]
    }
   ],
   "source": [
    "predictions = logistic_regression_model.transform(test)\n",
    "predictions.select('userID', 'trackID', 'label', 'probability', \n",
    "                   'rawPrediction', 'prediction' ).show(12)"
   ]
  },
  {
   "cell_type": "code",
   "execution_count": 35,
   "id": "5a2a6637",
   "metadata": {},
   "outputs": [
    {
     "name": "stdout",
     "output_type": "stream",
     "text": [
      "+------+-------+-----+--------------------+--------------------+----------+\n",
      "|userID|trackID|label|         probability|       rawPrediction|prediction|\n",
      "+------+-------+-----+--------------------+--------------------+----------+\n",
      "|200031| 130183|  0.0|[0.80218276453714...|[1.39999291666030...|       0.0|\n",
      "|200031|   8244|  1.0|[0.06488875729218...|[-2.6679911209111...|       1.0|\n",
      "|200031|  30877|  1.0|[0.01343471003408...|[-4.2963878477543...|       1.0|\n",
      "|200055|  56695|  1.0|[0.00368752576332...|[-5.5991052292289...|       1.0|\n",
      "|200065| 179571|  0.0|[0.80218276453714...|[1.39999291666030...|       0.0|\n",
      "|200065| 119451|  1.0|[0.17782970128751...|[-1.5311211916575...|       1.0|\n",
      "+------+-------+-----+--------------------+--------------------+----------+\n",
      "only showing top 6 rows\n",
      "\n"
     ]
    }
   ],
   "source": [
    "# col(\"userID\").asc() sort the user ascending\n",
    "# col(\"probability\").desc() sort the probability descending (from large to small)\n",
    "from pyspark.sql.functions import col\n",
    "sort_predictions = predictions.select('userID', 'trackID', \n",
    "                                      'label', 'probability', \n",
    "                                      'rawPrediction', 'prediction' \n",
    "                                     ).sort(col(\"userID\").asc(), col(\"probability\").desc())\n",
    "sort_predictions.show(6)"
   ]
  },
  {
   "cell_type": "code",
   "execution_count": 36,
   "id": "193438ed",
   "metadata": {},
   "outputs": [
    {
     "name": "stdout",
     "output_type": "stream",
     "text": [
      "+------+-------+-----+--------------------+--------------------+----------+\n",
      "|userID|trackID|label|         probability|       rawPrediction|prediction|\n",
      "+------+-------+-----+--------------------+--------------------+----------+\n",
      "|200031| 130183|  0.0|[0.80218276453714...|[1.39999291666030...|       0.0|\n",
      "|200031|   8244|  1.0|[0.06488875729218...|[-2.6679911209111...|       1.0|\n",
      "|200031|  30877|  1.0|[0.01343471003408...|[-4.2963878477543...|       1.0|\n",
      "|200055|  56695|  1.0|[0.00368752576332...|[-5.5991052292289...|       1.0|\n",
      "|200065| 179571|  0.0|[0.80218276453714...|[1.39999291666030...|       0.0|\n",
      "|200065| 119451|  1.0|[0.17782970128751...|[-1.5311211916575...|       1.0|\n",
      "+------+-------+-----+--------------------+--------------------+----------+\n",
      "only showing top 6 rows\n",
      "\n"
     ]
    }
   ],
   "source": [
    "# probability column is where you can decide \n",
    "# the 3 tracks with highest \"probability\" for \"1\" and \n",
    "# the 3 tracks with lowest \"probability\" for \"0\" \n",
    "# tracks \"198762\", \"34503\", \"130183\" with \"1\"\n",
    "# tracks \"30877\", \"8244\", \"227283\" with \"0\"\n",
    "sort_predictions.show(6)"
   ]
  },
  {
   "cell_type": "code",
   "execution_count": 37,
   "id": "a428c475",
   "metadata": {},
   "outputs": [
    {
     "name": "stdout",
     "output_type": "stream",
     "text": [
      "+------+-------+--------------------+--------------------+----------+\n",
      "|userID|trackID|         probability|       rawPrediction|prediction|\n",
      "+------+-------+--------------------+--------------------+----------+\n",
      "|199810| 208019|[0.80218276453714...|[1.39999291666030...|       0.0|\n",
      "|199810|  74139|[0.80218276453714...|[1.39999291666030...|       0.0|\n",
      "|199810|   9903|[0.80218276453714...|[1.39999291666030...|       0.0|\n",
      "|199810| 242681|[0.80218276453714...|[1.39999291666030...|       0.0|\n",
      "|199810|  18515|[0.29322699696820...|[-0.8797625009202...|       1.0|\n",
      "|199810| 105760|[0.17782970128751...|[-1.5311211916575...|       1.0|\n",
      "|199812| 276940|[0.80218276453714...|[1.39999291666030...|       0.0|\n",
      "|199812| 142408|[0.00169769820591...|[-6.3767828009944...|       1.0|\n",
      "|199812| 130023|[0.00169769820591...|[-6.3767828009944...|       1.0|\n",
      "|199812|  29189|[0.80218276453714...|[1.39999291666030...|       0.0|\n",
      "|199812| 223706|[0.13507641145138...|[-1.8568005370262...|       1.0|\n",
      "|199812| 211361|[0.80218276453714...|[1.39999291666030...|       0.0|\n",
      "+------+-------+--------------------+--------------------+----------+\n",
      "only showing top 12 rows\n",
      "\n"
     ]
    }
   ],
   "source": [
    "logistic_regression_model_predictions = logistic_regression_model.transform(predictions_df)\n",
    "logistic_regression_model_predictions.select('userID', 'trackID', 'probability', 'rawPrediction', 'prediction').show(12)"
   ]
  },
  {
   "cell_type": "code",
   "execution_count": 38,
   "id": "4f50444a",
   "metadata": {},
   "outputs": [
    {
     "name": "stderr",
     "output_type": "stream",
     "text": [
      "                                                                                \r"
     ]
    },
    {
     "name": "stdout",
     "output_type": "stream",
     "text": [
      "+------+-------+--------------------+--------------------+----------+\n",
      "|userID|trackID|         probability|       rawPrediction|prediction|\n",
      "+------+-------+--------------------+--------------------+----------+\n",
      "|199810| 208019|[0.80218276453714...|[1.39999291666030...|       0.0|\n",
      "|199810| 242681|[0.80218276453714...|[1.39999291666030...|       0.0|\n",
      "|199810|  74139|[0.80218276453714...|[1.39999291666030...|       0.0|\n",
      "|199810|   9903|[0.80218276453714...|[1.39999291666030...|       0.0|\n",
      "|199810|  18515|[0.29322699696820...|[-0.8797625009202...|       1.0|\n",
      "|199810| 105760|[0.17782970128751...|[-1.5311211916575...|       1.0|\n",
      "+------+-------+--------------------+--------------------+----------+\n",
      "only showing top 6 rows\n",
      "\n"
     ]
    }
   ],
   "source": [
    "sort_logistic_regression_model_predictions = logistic_regression_model_predictions.select('userID', 'trackID', 'probability', 'rawPrediction', 'prediction').sort(col('userID').asc(), col('probability').desc())\n",
    "sort_logistic_regression_model_predictions.show(6)"
   ]
  },
  {
   "cell_type": "code",
   "execution_count": 39,
   "id": "c8f8000c",
   "metadata": {},
   "outputs": [
    {
     "name": "stderr",
     "output_type": "stream",
     "text": [
      "                                                                                \r"
     ]
    },
    {
     "data": {
      "text/plain": [
       "Index([], dtype='object')"
      ]
     },
     "execution_count": 39,
     "metadata": {},
     "output_type": "execute_result"
    }
   ],
   "source": [
    "sort_logistic_regression_model_predictions_df = sort_logistic_regression_model_predictions.toPandas()\n",
    "sort_logistic_regression_model_predictions_df.columns[sort_logistic_regression_model_predictions_df.isnull().any()]"
   ]
  },
  {
   "cell_type": "code",
   "execution_count": 40,
   "id": "9e3e7c35",
   "metadata": {},
   "outputs": [
    {
     "data": {
      "text/html": [
       "<div>\n",
       "<style scoped>\n",
       "    .dataframe tbody tr th:only-of-type {\n",
       "        vertical-align: middle;\n",
       "    }\n",
       "\n",
       "    .dataframe tbody tr th {\n",
       "        vertical-align: top;\n",
       "    }\n",
       "\n",
       "    .dataframe thead th {\n",
       "        text-align: right;\n",
       "    }\n",
       "</style>\n",
       "<table border=\"1\" class=\"dataframe\">\n",
       "  <thead>\n",
       "    <tr style=\"text-align: right;\">\n",
       "      <th></th>\n",
       "      <th>userID</th>\n",
       "      <th>trackID</th>\n",
       "      <th>probability</th>\n",
       "      <th>rawPrediction</th>\n",
       "      <th>prediction</th>\n",
       "    </tr>\n",
       "  </thead>\n",
       "  <tbody>\n",
       "    <tr>\n",
       "      <th>0</th>\n",
       "      <td>199810</td>\n",
       "      <td>208019</td>\n",
       "      <td>[0.8021827645371431, 0.1978172354628569]</td>\n",
       "      <td>[1.3999929166603091, -1.3999929166603091]</td>\n",
       "      <td>0.0</td>\n",
       "    </tr>\n",
       "    <tr>\n",
       "      <th>1</th>\n",
       "      <td>199810</td>\n",
       "      <td>74139</td>\n",
       "      <td>[0.8021827645371431, 0.1978172354628569]</td>\n",
       "      <td>[1.3999929166603091, -1.3999929166603091]</td>\n",
       "      <td>0.0</td>\n",
       "    </tr>\n",
       "    <tr>\n",
       "      <th>2</th>\n",
       "      <td>199810</td>\n",
       "      <td>9903</td>\n",
       "      <td>[0.8021827645371431, 0.1978172354628569]</td>\n",
       "      <td>[1.3999929166603091, -1.3999929166603091]</td>\n",
       "      <td>0.0</td>\n",
       "    </tr>\n",
       "    <tr>\n",
       "      <th>3</th>\n",
       "      <td>199810</td>\n",
       "      <td>242681</td>\n",
       "      <td>[0.8021827645371431, 0.1978172354628569]</td>\n",
       "      <td>[1.3999929166603091, -1.3999929166603091]</td>\n",
       "      <td>0.0</td>\n",
       "    </tr>\n",
       "    <tr>\n",
       "      <th>4</th>\n",
       "      <td>199810</td>\n",
       "      <td>18515</td>\n",
       "      <td>[0.2932269969682032, 0.7067730030317968]</td>\n",
       "      <td>[-0.8797625009202483, 0.8797625009202483]</td>\n",
       "      <td>1.0</td>\n",
       "    </tr>\n",
       "  </tbody>\n",
       "</table>\n",
       "</div>"
      ],
      "text/plain": [
       "   userID  trackID                               probability  \\\n",
       "0  199810   208019  [0.8021827645371431, 0.1978172354628569]   \n",
       "1  199810    74139  [0.8021827645371431, 0.1978172354628569]   \n",
       "2  199810     9903  [0.8021827645371431, 0.1978172354628569]   \n",
       "3  199810   242681  [0.8021827645371431, 0.1978172354628569]   \n",
       "4  199810    18515  [0.2932269969682032, 0.7067730030317968]   \n",
       "\n",
       "                               rawPrediction  prediction  \n",
       "0  [1.3999929166603091, -1.3999929166603091]         0.0  \n",
       "1  [1.3999929166603091, -1.3999929166603091]         0.0  \n",
       "2  [1.3999929166603091, -1.3999929166603091]         0.0  \n",
       "3  [1.3999929166603091, -1.3999929166603091]         0.0  \n",
       "4  [-0.8797625009202483, 0.8797625009202483]         1.0  "
      ]
     },
     "execution_count": 40,
     "metadata": {},
     "output_type": "execute_result"
    }
   ],
   "source": [
    "sort_logistic_regression_model_predictions_df.head()"
   ]
  },
  {
   "cell_type": "code",
   "execution_count": 41,
   "id": "262a1639",
   "metadata": {},
   "outputs": [],
   "source": [
    "columns = ['userID', 'trackID']\n",
    "sort_logistic_regression_model_predictions_df.to_csv('logistic_regression_predictions.csv', index=False, header=None, columns=columns)"
   ]
  },
  {
   "cell_type": "code",
   "execution_count": 42,
   "id": "7f229118",
   "metadata": {},
   "outputs": [],
   "source": [
    "logistic_regression_predictions_file = open('logistic_regression_predictions.csv')                  \n",
    "final_logistic_regression_predictions_file = open('logistic_regression_submission.csv', 'w')"
   ]
  },
  {
   "cell_type": "code",
   "execution_count": 43,
   "id": "44eafd4e",
   "metadata": {},
   "outputs": [
    {
     "data": {
      "text/plain": [
       "18"
      ]
     },
     "execution_count": 43,
     "metadata": {},
     "output_type": "execute_result"
    }
   ],
   "source": [
    "final_logistic_regression_predictions_file.write('TrackID,Predictor\\n')"
   ]
  },
  {
   "cell_type": "code",
   "execution_count": 44,
   "id": "6b269a0c",
   "metadata": {},
   "outputs": [],
   "source": [
    "last_user_id = -1\n",
    "track_id_out_vec = [0] * 6"
   ]
  },
  {
   "cell_type": "code",
   "execution_count": 45,
   "id": "93671bac",
   "metadata": {},
   "outputs": [],
   "source": [
    "for line in logistic_regression_predictions_file:\n",
    "    arr_out = line.strip().split(',')\n",
    "    user_id_out = arr_out[0]\n",
    "    track_id_out = arr_out[1]\n",
    "    \n",
    "    if user_id_out != last_user_id:\n",
    "        i = 0\n",
    "        \n",
    "    track_id_out_vec[i] = track_id_out\n",
    "        \n",
    "    i = i + 1\n",
    "    last_user_id = user_id_out\n",
    "    \n",
    "    if i == 6:\n",
    "        predictions = np.ones(shape=(6))\n",
    "        for index in range(0, 3):            \n",
    "            predictions[index] = 0\n",
    "        \n",
    "        for ii in range(0, 6):         \n",
    "            out_str = str(user_id_out) + '_' + str(track_id_out_vec[ii]) + ',' + str(int(predictions[ii]))\n",
    "            final_logistic_regression_predictions_file.write(out_str + '\\n')"
   ]
  },
  {
   "cell_type": "code",
   "execution_count": 46,
   "id": "e19d0cde",
   "metadata": {},
   "outputs": [],
   "source": [
    "logistic_regression_predictions_file.close()\n",
    "final_logistic_regression_predictions_file.close()"
   ]
  },
  {
   "cell_type": "markdown",
   "id": "36bc50b8",
   "metadata": {},
   "source": [
    "# 2. Decision Tree Classifier"
   ]
  },
  {
   "cell_type": "code",
   "execution_count": 47,
   "id": "1f34f9e4",
   "metadata": {},
   "outputs": [],
   "source": [
    "from pyspark.ml.classification import DecisionTreeClassifier"
   ]
  },
  {
   "cell_type": "code",
   "execution_count": 48,
   "id": "b40b30a8",
   "metadata": {},
   "outputs": [],
   "source": [
    "decision_tree_classifier = DecisionTreeClassifier(featuresCol='features', labelCol='label', maxDepth=3)\n",
    "decision_tree_classifier_model = decision_tree_classifier.fit(train)"
   ]
  },
  {
   "cell_type": "code",
   "execution_count": 49,
   "id": "0fefacc6",
   "metadata": {},
   "outputs": [],
   "source": [
    "predictions_decision_tree_classifier = decision_tree_classifier_model.transform(test)"
   ]
  },
  {
   "cell_type": "code",
   "execution_count": 50,
   "id": "bece3a6a",
   "metadata": {},
   "outputs": [
    {
     "name": "stdout",
     "output_type": "stream",
     "text": [
      "Test Error: 14.482758620689651\n"
     ]
    }
   ],
   "source": [
    "evaluator = MulticlassClassificationEvaluator(labelCol='label', predictionCol='prediction', metricName='accuracy')\n",
    "accuracy = evaluator.evaluate(predictions_decision_tree_classifier)\n",
    "print('Test Error: {}'.format((1.0 - accuracy) * 100))"
   ]
  },
  {
   "cell_type": "code",
   "execution_count": 51,
   "id": "7d07be0f",
   "metadata": {},
   "outputs": [
    {
     "name": "stdout",
     "output_type": "stream",
     "text": [
      "+------+-------+-----+--------------------+--------------+----------+\n",
      "|userID|trackID|label|         probability| rawPrediction|prediction|\n",
      "+------+-------+-----+--------------------+--------------+----------+\n",
      "|200031| 130183|  0.0|[0.80858085808580...|[1960.0,464.0]|       0.0|\n",
      "|200031|  30877|  1.0|[0.08880090497737...|[157.0,1611.0]|       1.0|\n",
      "|200031|   8244|  1.0|[0.01470588235294...|    [1.0,67.0]|       1.0|\n",
      "|200055|  56695|  1.0|[0.08880090497737...|[157.0,1611.0]|       1.0|\n",
      "|200065| 179571|  0.0|[0.80858085808580...|[1960.0,464.0]|       0.0|\n",
      "|200065| 119451|  1.0|[0.08880090497737...|[157.0,1611.0]|       1.0|\n",
      "+------+-------+-----+--------------------+--------------+----------+\n",
      "only showing top 6 rows\n",
      "\n"
     ]
    }
   ],
   "source": [
    "sort_predictions_decision_tree_classifier = predictions_decision_tree_classifier.select('userID', 'trackID', 'label', 'probability', 'rawPrediction', 'prediction').sort(col('userID').asc(), col('probability').desc())\n",
    "sort_predictions_decision_tree_classifier.show(6)"
   ]
  },
  {
   "cell_type": "code",
   "execution_count": 52,
   "id": "d0953b40",
   "metadata": {},
   "outputs": [
    {
     "name": "stdout",
     "output_type": "stream",
     "text": [
      "+------+-------+--------------------+--------------+----------+\n",
      "|userID|trackID|         probability| rawPrediction|prediction|\n",
      "+------+-------+--------------------+--------------+----------+\n",
      "|199810| 208019|[0.80858085808580...|[1960.0,464.0]|       0.0|\n",
      "|199810|  74139|[0.80858085808580...|[1960.0,464.0]|       0.0|\n",
      "|199810|   9903|[0.80858085808580...|[1960.0,464.0]|       0.0|\n",
      "|199810| 242681|[0.80858085808580...|[1960.0,464.0]|       0.0|\n",
      "|199810|  18515|[0.08880090497737...|[157.0,1611.0]|       1.0|\n",
      "|199810| 105760|[0.08880090497737...|[157.0,1611.0]|       1.0|\n",
      "|199812| 276940|[0.80858085808580...|[1960.0,464.0]|       0.0|\n",
      "|199812| 142408|[0.08880090497737...|[157.0,1611.0]|       1.0|\n",
      "|199812| 130023|[0.08880090497737...|[157.0,1611.0]|       1.0|\n",
      "|199812|  29189|[0.80858085808580...|[1960.0,464.0]|       0.0|\n",
      "|199812| 223706|[0.08880090497737...|[157.0,1611.0]|       1.0|\n",
      "|199812| 211361|[0.80858085808580...|[1960.0,464.0]|       0.0|\n",
      "+------+-------+--------------------+--------------+----------+\n",
      "only showing top 12 rows\n",
      "\n"
     ]
    }
   ],
   "source": [
    "predictions_decision_tree_classifier = decision_tree_classifier_model.transform(predictions_df)\n",
    "predictions_decision_tree_classifier.select('userID', 'trackID', 'probability', 'rawPrediction', 'prediction').show(12)"
   ]
  },
  {
   "cell_type": "code",
   "execution_count": 53,
   "id": "1b5e5b6f",
   "metadata": {},
   "outputs": [
    {
     "name": "stdout",
     "output_type": "stream",
     "text": [
      "+------+-------+--------------------+--------------+----------+\n",
      "|userID|trackID|         probability| rawPrediction|prediction|\n",
      "+------+-------+--------------------+--------------+----------+\n",
      "|199810| 208019|[0.80858085808580...|[1960.0,464.0]|       0.0|\n",
      "|199810| 242681|[0.80858085808580...|[1960.0,464.0]|       0.0|\n",
      "|199810|  74139|[0.80858085808580...|[1960.0,464.0]|       0.0|\n",
      "|199810|   9903|[0.80858085808580...|[1960.0,464.0]|       0.0|\n",
      "|199810|  18515|[0.08880090497737...|[157.0,1611.0]|       1.0|\n",
      "|199810| 105760|[0.08880090497737...|[157.0,1611.0]|       1.0|\n",
      "+------+-------+--------------------+--------------+----------+\n",
      "only showing top 6 rows\n",
      "\n"
     ]
    }
   ],
   "source": [
    "sort_predictions_decision_tree_classifier = predictions_decision_tree_classifier.select('userID', 'trackID', 'probability', 'rawPrediction', 'prediction').sort(col('userID').asc(), col('probability').desc())\n",
    "sort_predictions_decision_tree_classifier.show(6)"
   ]
  },
  {
   "cell_type": "code",
   "execution_count": 54,
   "id": "c960abe7",
   "metadata": {},
   "outputs": [
    {
     "name": "stderr",
     "output_type": "stream",
     "text": [
      "                                                                                \r"
     ]
    },
    {
     "data": {
      "text/plain": [
       "Index([], dtype='object')"
      ]
     },
     "execution_count": 54,
     "metadata": {},
     "output_type": "execute_result"
    }
   ],
   "source": [
    "sort_predictions_decision_tree_classifier_df = sort_predictions_decision_tree_classifier.toPandas()\n",
    "sort_predictions_decision_tree_classifier_df.columns[sort_predictions_decision_tree_classifier_df.isnull().any()]"
   ]
  },
  {
   "cell_type": "code",
   "execution_count": 55,
   "id": "7cca888d",
   "metadata": {},
   "outputs": [
    {
     "data": {
      "text/html": [
       "<div>\n",
       "<style scoped>\n",
       "    .dataframe tbody tr th:only-of-type {\n",
       "        vertical-align: middle;\n",
       "    }\n",
       "\n",
       "    .dataframe tbody tr th {\n",
       "        vertical-align: top;\n",
       "    }\n",
       "\n",
       "    .dataframe thead th {\n",
       "        text-align: right;\n",
       "    }\n",
       "</style>\n",
       "<table border=\"1\" class=\"dataframe\">\n",
       "  <thead>\n",
       "    <tr style=\"text-align: right;\">\n",
       "      <th></th>\n",
       "      <th>userID</th>\n",
       "      <th>trackID</th>\n",
       "      <th>probability</th>\n",
       "      <th>rawPrediction</th>\n",
       "      <th>prediction</th>\n",
       "    </tr>\n",
       "  </thead>\n",
       "  <tbody>\n",
       "    <tr>\n",
       "      <th>0</th>\n",
       "      <td>199810</td>\n",
       "      <td>208019</td>\n",
       "      <td>[0.8085808580858086, 0.19141914191419143]</td>\n",
       "      <td>[1960.0, 464.0]</td>\n",
       "      <td>0.0</td>\n",
       "    </tr>\n",
       "    <tr>\n",
       "      <th>1</th>\n",
       "      <td>199810</td>\n",
       "      <td>74139</td>\n",
       "      <td>[0.8085808580858086, 0.19141914191419143]</td>\n",
       "      <td>[1960.0, 464.0]</td>\n",
       "      <td>0.0</td>\n",
       "    </tr>\n",
       "    <tr>\n",
       "      <th>2</th>\n",
       "      <td>199810</td>\n",
       "      <td>9903</td>\n",
       "      <td>[0.8085808580858086, 0.19141914191419143]</td>\n",
       "      <td>[1960.0, 464.0]</td>\n",
       "      <td>0.0</td>\n",
       "    </tr>\n",
       "    <tr>\n",
       "      <th>3</th>\n",
       "      <td>199810</td>\n",
       "      <td>242681</td>\n",
       "      <td>[0.8085808580858086, 0.19141914191419143]</td>\n",
       "      <td>[1960.0, 464.0]</td>\n",
       "      <td>0.0</td>\n",
       "    </tr>\n",
       "    <tr>\n",
       "      <th>4</th>\n",
       "      <td>199810</td>\n",
       "      <td>18515</td>\n",
       "      <td>[0.08880090497737557, 0.9111990950226244]</td>\n",
       "      <td>[157.0, 1611.0]</td>\n",
       "      <td>1.0</td>\n",
       "    </tr>\n",
       "  </tbody>\n",
       "</table>\n",
       "</div>"
      ],
      "text/plain": [
       "   userID  trackID                                probability  \\\n",
       "0  199810   208019  [0.8085808580858086, 0.19141914191419143]   \n",
       "1  199810    74139  [0.8085808580858086, 0.19141914191419143]   \n",
       "2  199810     9903  [0.8085808580858086, 0.19141914191419143]   \n",
       "3  199810   242681  [0.8085808580858086, 0.19141914191419143]   \n",
       "4  199810    18515  [0.08880090497737557, 0.9111990950226244]   \n",
       "\n",
       "     rawPrediction  prediction  \n",
       "0  [1960.0, 464.0]         0.0  \n",
       "1  [1960.0, 464.0]         0.0  \n",
       "2  [1960.0, 464.0]         0.0  \n",
       "3  [1960.0, 464.0]         0.0  \n",
       "4  [157.0, 1611.0]         1.0  "
      ]
     },
     "execution_count": 55,
     "metadata": {},
     "output_type": "execute_result"
    }
   ],
   "source": [
    "sort_predictions_decision_tree_classifier_df.head()"
   ]
  },
  {
   "cell_type": "code",
   "execution_count": 56,
   "id": "ced5a651",
   "metadata": {},
   "outputs": [],
   "source": [
    "columns = ['userID', 'trackID']\n",
    "sort_predictions_decision_tree_classifier_df.to_csv('decision_tree_classifier_predictions.csv', index=False, header=None, columns=columns)"
   ]
  },
  {
   "cell_type": "code",
   "execution_count": 57,
   "id": "c839ac96",
   "metadata": {},
   "outputs": [],
   "source": [
    "decision_tree_classifier_file = open('decision_tree_classifier_predictions.csv')   \n",
    "final_decision_tree_classifier_file = open('decision_tree_classifier_submission.csv', 'w')"
   ]
  },
  {
   "cell_type": "code",
   "execution_count": 58,
   "id": "bfc81fbb",
   "metadata": {},
   "outputs": [
    {
     "data": {
      "text/plain": [
       "18"
      ]
     },
     "execution_count": 58,
     "metadata": {},
     "output_type": "execute_result"
    }
   ],
   "source": [
    "final_decision_tree_classifier_file.write('TrackID,Predictor\\n')"
   ]
  },
  {
   "cell_type": "code",
   "execution_count": 59,
   "id": "3359504a",
   "metadata": {},
   "outputs": [],
   "source": [
    "last_user_id = -1\n",
    "track_id_out_vec = [0] * 6"
   ]
  },
  {
   "cell_type": "code",
   "execution_count": 60,
   "id": "23aeab51",
   "metadata": {},
   "outputs": [],
   "source": [
    "for line in decision_tree_classifier_file:\n",
    "    arr_out = line.strip().split(',')\n",
    "    user_id_out = arr_out[0]\n",
    "    track_id_out = arr_out[1]\n",
    "    \n",
    "    if user_id_out != last_user_id:\n",
    "        i = 0\n",
    "        \n",
    "    track_id_out_vec[i] = track_id_out\n",
    "        \n",
    "    i = i + 1\n",
    "    last_user_id = user_id_out\n",
    "    if i == 6:\n",
    "        predictions = np.ones(shape=(6))\n",
    "        for index in range(0, 3):            \n",
    "            predictions[index] = 0\n",
    "        \n",
    "        for ii in range(0, 6):         \n",
    "            out_str = str(user_id_out) + '_' + str(track_id_out_vec[ii]) + ',' + str(int(predictions[ii]))\n",
    "            final_decision_tree_classifier_file.write(out_str + '\\n')"
   ]
  },
  {
   "cell_type": "code",
   "execution_count": 61,
   "id": "1f58c769",
   "metadata": {},
   "outputs": [],
   "source": [
    "decision_tree_classifier_file.close()\n",
    "final_decision_tree_classifier_file.close()"
   ]
  },
  {
   "cell_type": "markdown",
   "id": "8cf35a18",
   "metadata": {},
   "source": [
    "# 3. Random Forest Classifier"
   ]
  },
  {
   "cell_type": "code",
   "execution_count": 62,
   "id": "a6304906",
   "metadata": {},
   "outputs": [],
   "source": [
    "from pyspark.ml.classification import RandomForestClassifier"
   ]
  },
  {
   "cell_type": "code",
   "execution_count": 63,
   "id": "877f6e39",
   "metadata": {},
   "outputs": [],
   "source": [
    "random_forest = RandomForestClassifier(featuresCol='features', labelCol='label')\n",
    "random_forest_model = random_forest.fit(train)"
   ]
  },
  {
   "cell_type": "code",
   "execution_count": 64,
   "id": "1551eeee",
   "metadata": {},
   "outputs": [],
   "source": [
    "random_forest_predictions = random_forest_model.transform(test)"
   ]
  },
  {
   "cell_type": "code",
   "execution_count": 65,
   "id": "0a16c8ab",
   "metadata": {},
   "outputs": [
    {
     "name": "stdout",
     "output_type": "stream",
     "text": [
      "Test Error: 14.482758620689651\n"
     ]
    }
   ],
   "source": [
    "evaluator = MulticlassClassificationEvaluator(labelCol='label', predictionCol='prediction', metricName='accuracy')\n",
    "accuracy = evaluator.evaluate(random_forest_predictions)\n",
    "print('Test Error: {}'.format((1.0 - accuracy) * 100))"
   ]
  },
  {
   "cell_type": "code",
   "execution_count": 66,
   "id": "91031a25",
   "metadata": {},
   "outputs": [
    {
     "name": "stdout",
     "output_type": "stream",
     "text": [
      "+------+-------+-----+--------------------+--------------------+----------+\n",
      "|userID|trackID|label|         probability|       rawPrediction|prediction|\n",
      "+------+-------+-----+--------------------+--------------------+----------+\n",
      "|200031| 130183|  0.0|[0.80878408351365...|[16.1756816702730...|       0.0|\n",
      "|200031|  30877|  1.0|[0.01263507637292...|[0.25270152745857...|       1.0|\n",
      "|200031|   8244|  1.0|[8.06451612903225...|[0.01612903225806...|       1.0|\n",
      "|200055|  56695|  1.0|[0.01263507637292...|[0.25270152745857...|       1.0|\n",
      "|200065| 179571|  0.0|[0.80878408351365...|[16.1756816702730...|       0.0|\n",
      "|200065| 119451|  1.0|[0.18553913276044...|[3.71078265520889...|       1.0|\n",
      "+------+-------+-----+--------------------+--------------------+----------+\n",
      "only showing top 6 rows\n",
      "\n"
     ]
    }
   ],
   "source": [
    "sort_random_forest_predictions = random_forest_predictions.select('userID', 'trackID', 'label', 'probability', 'rawPrediction', 'prediction').sort(col('userID').asc(), col('probability').desc())\n",
    "sort_random_forest_predictions.show(6)"
   ]
  },
  {
   "cell_type": "code",
   "execution_count": 67,
   "id": "84f9efae",
   "metadata": {},
   "outputs": [
    {
     "name": "stdout",
     "output_type": "stream",
     "text": [
      "+------+-------+--------------------+--------------------+----------+\n",
      "|userID|trackID|         probability|       rawPrediction|prediction|\n",
      "+------+-------+--------------------+--------------------+----------+\n",
      "|199810| 208019|[0.80878408351365...|[16.1756816702730...|       0.0|\n",
      "|199810|  74139|[0.80878408351365...|[16.1756816702730...|       0.0|\n",
      "|199810|   9903|[0.80878408351365...|[16.1756816702730...|       0.0|\n",
      "|199810| 242681|[0.80878408351365...|[16.1756816702730...|       0.0|\n",
      "|199810|  18515|[0.19467261212938...|[3.89345224258761...|       1.0|\n",
      "|199810| 105760|[0.18553913276044...|[3.71078265520889...|       1.0|\n",
      "|199812| 276940|[0.80878408351365...|[16.1756816702730...|       0.0|\n",
      "|199812| 142408|[0.01263507637292...|[0.25270152745857...|       1.0|\n",
      "|199812| 130023|[0.01263507637292...|[0.25270152745857...|       1.0|\n",
      "|199812|  29189|[0.80878408351365...|[16.1756816702730...|       0.0|\n",
      "|199812| 223706|[0.18553913276044...|[3.71078265520889...|       1.0|\n",
      "|199812| 211361|[0.80878408351365...|[16.1756816702730...|       0.0|\n",
      "+------+-------+--------------------+--------------------+----------+\n",
      "only showing top 12 rows\n",
      "\n"
     ]
    }
   ],
   "source": [
    "random_forest_predictions = random_forest_model.transform(predictions_df)\n",
    "random_forest_predictions.select('userID', 'trackID', 'probability', 'rawPrediction', 'prediction').show(12)"
   ]
  },
  {
   "cell_type": "code",
   "execution_count": 68,
   "id": "cea21bf8",
   "metadata": {},
   "outputs": [
    {
     "name": "stdout",
     "output_type": "stream",
     "text": [
      "+------+-------+--------------------+--------------------+----------+\n",
      "|userID|trackID|         probability|       rawPrediction|prediction|\n",
      "+------+-------+--------------------+--------------------+----------+\n",
      "|199810| 208019|[0.80878408351365...|[16.1756816702730...|       0.0|\n",
      "|199810| 242681|[0.80878408351365...|[16.1756816702730...|       0.0|\n",
      "|199810|  74139|[0.80878408351365...|[16.1756816702730...|       0.0|\n",
      "|199810|   9903|[0.80878408351365...|[16.1756816702730...|       0.0|\n",
      "|199810|  18515|[0.19467261212938...|[3.89345224258761...|       1.0|\n",
      "|199810| 105760|[0.18553913276044...|[3.71078265520889...|       1.0|\n",
      "+------+-------+--------------------+--------------------+----------+\n",
      "only showing top 6 rows\n",
      "\n"
     ]
    },
    {
     "name": "stderr",
     "output_type": "stream",
     "text": [
      "                                                                                \r"
     ]
    }
   ],
   "source": [
    "sort_random_forest_predictions = random_forest_predictions.select('userID', 'trackID', 'probability', 'rawPrediction', 'prediction').sort(col('userID').asc(), col('probability').desc())\n",
    "sort_random_forest_predictions.show(6)"
   ]
  },
  {
   "cell_type": "code",
   "execution_count": 69,
   "id": "d0fc9326",
   "metadata": {},
   "outputs": [
    {
     "name": "stderr",
     "output_type": "stream",
     "text": [
      "                                                                                \r"
     ]
    },
    {
     "data": {
      "text/plain": [
       "Index([], dtype='object')"
      ]
     },
     "execution_count": 69,
     "metadata": {},
     "output_type": "execute_result"
    }
   ],
   "source": [
    "sort_random_forest_predictions_df = sort_random_forest_predictions.toPandas()\n",
    "sort_random_forest_predictions_df.columns[sort_random_forest_predictions_df.isnull().any()]"
   ]
  },
  {
   "cell_type": "code",
   "execution_count": 70,
   "id": "19e832ff",
   "metadata": {},
   "outputs": [
    {
     "data": {
      "text/html": [
       "<div>\n",
       "<style scoped>\n",
       "    .dataframe tbody tr th:only-of-type {\n",
       "        vertical-align: middle;\n",
       "    }\n",
       "\n",
       "    .dataframe tbody tr th {\n",
       "        vertical-align: top;\n",
       "    }\n",
       "\n",
       "    .dataframe thead th {\n",
       "        text-align: right;\n",
       "    }\n",
       "</style>\n",
       "<table border=\"1\" class=\"dataframe\">\n",
       "  <thead>\n",
       "    <tr style=\"text-align: right;\">\n",
       "      <th></th>\n",
       "      <th>userID</th>\n",
       "      <th>trackID</th>\n",
       "      <th>probability</th>\n",
       "      <th>rawPrediction</th>\n",
       "      <th>prediction</th>\n",
       "    </tr>\n",
       "  </thead>\n",
       "  <tbody>\n",
       "    <tr>\n",
       "      <th>0</th>\n",
       "      <td>199810</td>\n",
       "      <td>208019</td>\n",
       "      <td>[0.8087840835136524, 0.19121591648634775]</td>\n",
       "      <td>[16.175681670273047, 3.824318329726955]</td>\n",
       "      <td>0.0</td>\n",
       "    </tr>\n",
       "    <tr>\n",
       "      <th>1</th>\n",
       "      <td>199810</td>\n",
       "      <td>74139</td>\n",
       "      <td>[0.8087840835136524, 0.19121591648634775]</td>\n",
       "      <td>[16.175681670273047, 3.824318329726955]</td>\n",
       "      <td>0.0</td>\n",
       "    </tr>\n",
       "    <tr>\n",
       "      <th>2</th>\n",
       "      <td>199810</td>\n",
       "      <td>9903</td>\n",
       "      <td>[0.8087840835136524, 0.19121591648634775]</td>\n",
       "      <td>[16.175681670273047, 3.824318329726955]</td>\n",
       "      <td>0.0</td>\n",
       "    </tr>\n",
       "    <tr>\n",
       "      <th>3</th>\n",
       "      <td>199810</td>\n",
       "      <td>242681</td>\n",
       "      <td>[0.8087840835136524, 0.19121591648634775]</td>\n",
       "      <td>[16.175681670273047, 3.824318329726955]</td>\n",
       "      <td>0.0</td>\n",
       "    </tr>\n",
       "    <tr>\n",
       "      <th>4</th>\n",
       "      <td>199810</td>\n",
       "      <td>18515</td>\n",
       "      <td>[0.1946726121293807, 0.8053273878706193]</td>\n",
       "      <td>[3.893452242587614, 16.106547757412386]</td>\n",
       "      <td>1.0</td>\n",
       "    </tr>\n",
       "  </tbody>\n",
       "</table>\n",
       "</div>"
      ],
      "text/plain": [
       "   userID  trackID                                probability  \\\n",
       "0  199810   208019  [0.8087840835136524, 0.19121591648634775]   \n",
       "1  199810    74139  [0.8087840835136524, 0.19121591648634775]   \n",
       "2  199810     9903  [0.8087840835136524, 0.19121591648634775]   \n",
       "3  199810   242681  [0.8087840835136524, 0.19121591648634775]   \n",
       "4  199810    18515   [0.1946726121293807, 0.8053273878706193]   \n",
       "\n",
       "                             rawPrediction  prediction  \n",
       "0  [16.175681670273047, 3.824318329726955]         0.0  \n",
       "1  [16.175681670273047, 3.824318329726955]         0.0  \n",
       "2  [16.175681670273047, 3.824318329726955]         0.0  \n",
       "3  [16.175681670273047, 3.824318329726955]         0.0  \n",
       "4  [3.893452242587614, 16.106547757412386]         1.0  "
      ]
     },
     "execution_count": 70,
     "metadata": {},
     "output_type": "execute_result"
    }
   ],
   "source": [
    "sort_random_forest_predictions_df.head()"
   ]
  },
  {
   "cell_type": "code",
   "execution_count": 71,
   "id": "294d2dc8",
   "metadata": {},
   "outputs": [],
   "source": [
    "columns= ['userID', 'trackID']\n",
    "sort_random_forest_predictions_df.to_csv('random_forest_classifier_predictions.csv', index=False, header=None, columns=columns)"
   ]
  },
  {
   "cell_type": "code",
   "execution_count": 72,
   "id": "a41f18ab",
   "metadata": {},
   "outputs": [],
   "source": [
    "random_forest_predictions_file = open('random_forest_classifier_predictions.csv')   \n",
    "final_random_forest_predictions_file = open('random_forest_classifier_submission.csv', 'w')"
   ]
  },
  {
   "cell_type": "code",
   "execution_count": 73,
   "id": "8dcfec8c",
   "metadata": {},
   "outputs": [
    {
     "data": {
      "text/plain": [
       "18"
      ]
     },
     "execution_count": 73,
     "metadata": {},
     "output_type": "execute_result"
    }
   ],
   "source": [
    "final_random_forest_predictions_file.write('TrackID,Predictor\\n')"
   ]
  },
  {
   "cell_type": "code",
   "execution_count": 74,
   "id": "bc091696",
   "metadata": {},
   "outputs": [],
   "source": [
    "last_user_id = -1\n",
    "track_id_out_vec = [0] * 6"
   ]
  },
  {
   "cell_type": "code",
   "execution_count": 75,
   "id": "f362b038",
   "metadata": {},
   "outputs": [],
   "source": [
    "for line in random_forest_predictions_file:\n",
    "    arr_out = line.strip().split(',')\n",
    "    user_id_out = arr_out[0]\n",
    "    track_id_out = arr_out[1]\n",
    "    \n",
    "    if user_id_out != last_user_id:\n",
    "        i = 0\n",
    "        \n",
    "    track_id_out_vec[i] = track_id_out\n",
    "        \n",
    "    i = i + 1\n",
    "    last_user_id = user_id_out\n",
    "    \n",
    "    if i == 6:\n",
    "        predictions = np.ones(shape=(6))\n",
    "        for index in range(0, 3):            \n",
    "            predictions[index] = 0\n",
    "            \n",
    "        for ii in range(0, 6):         \n",
    "            out_str = str(user_id_out) + '_' + str(track_id_out_vec[ii]) + ',' + str(int(predictions[ii]))\n",
    "            final_random_forest_predictions_file.write(out_str + '\\n')"
   ]
  },
  {
   "cell_type": "code",
   "execution_count": 76,
   "id": "d9786007",
   "metadata": {},
   "outputs": [],
   "source": [
    "random_forest_predictions_file.close()\n",
    "final_random_forest_predictions_file.close()"
   ]
  },
  {
   "cell_type": "markdown",
   "id": "b219c41f",
   "metadata": {},
   "source": [
    "# 4. Gradient Boosted Tree Classifier"
   ]
  },
  {
   "cell_type": "code",
   "execution_count": 77,
   "id": "034cd2d5",
   "metadata": {},
   "outputs": [],
   "source": [
    "from pyspark.ml.classification import GBTClassifier"
   ]
  },
  {
   "cell_type": "code",
   "execution_count": 78,
   "id": "1ffb8eb2",
   "metadata": {},
   "outputs": [],
   "source": [
    "gradient_boosted_tree_classifier = GBTClassifier(maxIter=100)\n",
    "gradient_boosted_tree_classifier_model = gradient_boosted_tree_classifier.fit(train)"
   ]
  },
  {
   "cell_type": "code",
   "execution_count": 79,
   "id": "b639f6d5",
   "metadata": {},
   "outputs": [],
   "source": [
    "gradient_boosted_tree_classifier_predictions = gradient_boosted_tree_classifier_model.transform(test)"
   ]
  },
  {
   "cell_type": "code",
   "execution_count": 80,
   "id": "285bf697",
   "metadata": {},
   "outputs": [
    {
     "name": "stdout",
     "output_type": "stream",
     "text": [
      "Test Error: 14.482758620689651\n"
     ]
    },
    {
     "name": "stderr",
     "output_type": "stream",
     "text": [
      "21/11/21 18:03:08 WARN InstanceBuilder$NativeBLAS: Failed to load implementation from:dev.ludovic.netlib.blas.JNIBLAS\n",
      "21/11/21 18:03:08 WARN InstanceBuilder$NativeBLAS: Failed to load implementation from:dev.ludovic.netlib.blas.ForeignLinkerBLAS\n"
     ]
    }
   ],
   "source": [
    "evaluator = MulticlassClassificationEvaluator(labelCol='label', predictionCol='prediction', metricName='accuracy')\n",
    "accuracy = evaluator.evaluate(gradient_boosted_tree_classifier_predictions)\n",
    "print('Test Error: {}'.format((1.0 - accuracy) * 100))"
   ]
  },
  {
   "cell_type": "code",
   "execution_count": 81,
   "id": "ca132b1a",
   "metadata": {},
   "outputs": [
    {
     "name": "stdout",
     "output_type": "stream",
     "text": [
      "+------+-------+-----+--------------------+--------------------+----------+\n",
      "|userID|trackID|label|         probability|       rawPrediction|prediction|\n",
      "+------+-------+-----+--------------------+--------------------+----------+\n",
      "|200031| 130183|  0.0|[0.80853359039673...|[0.72025491912707...|       0.0|\n",
      "|200031|  30877|  1.0|[0.01165681655269...|[-2.2200694341913...|       1.0|\n",
      "|200031|   8244|  1.0|[0.01165681655269...|[-2.2200694341913...|       1.0|\n",
      "|200055|  56695|  1.0|[0.01632026531261...|[-2.0494463824457...|       1.0|\n",
      "|200065| 179571|  0.0|[0.80853359039673...|[0.72025491912707...|       0.0|\n",
      "|200065| 119451|  1.0|[0.19777096337535...|[-0.7001422692047...|       1.0|\n",
      "+------+-------+-----+--------------------+--------------------+----------+\n",
      "only showing top 6 rows\n",
      "\n"
     ]
    }
   ],
   "source": [
    "sort_gradient_boosted_tree_classifier_predictions = gradient_boosted_tree_classifier_predictions.select('userID', 'trackID', 'label', 'probability', 'rawPrediction', 'prediction').sort(col('userID').asc(), col('probability').desc())\n",
    "sort_gradient_boosted_tree_classifier_predictions.show(6)"
   ]
  },
  {
   "cell_type": "code",
   "execution_count": 82,
   "id": "e0fc7ccb",
   "metadata": {},
   "outputs": [
    {
     "name": "stdout",
     "output_type": "stream",
     "text": [
      "+------+-------+--------------------+--------------------+----------+\n",
      "|userID|trackID|         probability|       rawPrediction|prediction|\n",
      "+------+-------+--------------------+--------------------+----------+\n",
      "|199810| 208019|[0.80853359039673...|[0.72025491912707...|       0.0|\n",
      "|199810|  74139|[0.80853359039673...|[0.72025491912707...|       0.0|\n",
      "|199810|   9903|[0.80853359039673...|[0.72025491912707...|       0.0|\n",
      "|199810| 242681|[0.80853359039673...|[0.72025491912707...|       0.0|\n",
      "|199810|  18515|[0.24633418901301...|[-0.5591299711568...|       1.0|\n",
      "|199810| 105760|[0.19777096337535...|[-0.7001422692047...|       1.0|\n",
      "|199812| 276940|[0.80853359039673...|[0.72025491912707...|       0.0|\n",
      "|199812| 142408|[0.01161609118736...|[-2.2218399428711...|       1.0|\n",
      "|199812| 130023|[0.01161609118736...|[-2.2218399428711...|       1.0|\n",
      "|199812|  29189|[0.80853359039673...|[0.72025491912707...|       0.0|\n",
      "|199812| 223706|[0.12602709898363...|[-0.9682762071735...|       1.0|\n",
      "|199812| 211361|[0.80853359039673...|[0.72025491912707...|       0.0|\n",
      "+------+-------+--------------------+--------------------+----------+\n",
      "only showing top 12 rows\n",
      "\n"
     ]
    }
   ],
   "source": [
    "gradient_boosted_tree_classifier_predictions = gradient_boosted_tree_classifier_model.transform(predictions_df)\n",
    "gradient_boosted_tree_classifier_predictions.select('userID', 'trackID', 'probability', 'rawPrediction', 'prediction').show(12)"
   ]
  },
  {
   "cell_type": "code",
   "execution_count": 83,
   "id": "bb3ae360",
   "metadata": {},
   "outputs": [
    {
     "name": "stderr",
     "output_type": "stream",
     "text": [
      "[Stage 1106:>                                                       (0 + 1) / 1]\r"
     ]
    },
    {
     "name": "stdout",
     "output_type": "stream",
     "text": [
      "+------+-------+--------------------+--------------------+----------+\n",
      "|userID|trackID|         probability|       rawPrediction|prediction|\n",
      "+------+-------+--------------------+--------------------+----------+\n",
      "|199810| 208019|[0.80853359039673...|[0.72025491912707...|       0.0|\n",
      "|199810| 242681|[0.80853359039673...|[0.72025491912707...|       0.0|\n",
      "|199810|  74139|[0.80853359039673...|[0.72025491912707...|       0.0|\n",
      "|199810|   9903|[0.80853359039673...|[0.72025491912707...|       0.0|\n",
      "|199810|  18515|[0.24633418901301...|[-0.5591299711568...|       1.0|\n",
      "|199810| 105760|[0.19777096337535...|[-0.7001422692047...|       1.0|\n",
      "+------+-------+--------------------+--------------------+----------+\n",
      "only showing top 6 rows\n",
      "\n"
     ]
    },
    {
     "name": "stderr",
     "output_type": "stream",
     "text": [
      "                                                                                \r"
     ]
    }
   ],
   "source": [
    "sort_gradient_boosted_tree_classifier_predictions = gradient_boosted_tree_classifier_predictions.select('userID', 'trackID', 'probability', 'rawPrediction', 'prediction').sort(col('userID').asc(), col('probability').desc())\n",
    "sort_gradient_boosted_tree_classifier_predictions.show(6)"
   ]
  },
  {
   "cell_type": "code",
   "execution_count": 84,
   "id": "e00d0d7c",
   "metadata": {},
   "outputs": [
    {
     "name": "stderr",
     "output_type": "stream",
     "text": [
      "                                                                                \r"
     ]
    },
    {
     "data": {
      "text/plain": [
       "Index([], dtype='object')"
      ]
     },
     "execution_count": 84,
     "metadata": {},
     "output_type": "execute_result"
    }
   ],
   "source": [
    "sort_gradient_boosted_tree_classifier_predictions_df = sort_gradient_boosted_tree_classifier_predictions.toPandas()\n",
    "sort_gradient_boosted_tree_classifier_predictions_df.columns[sort_gradient_boosted_tree_classifier_predictions_df.isnull().any()]"
   ]
  },
  {
   "cell_type": "code",
   "execution_count": 85,
   "id": "b23c0e4d",
   "metadata": {},
   "outputs": [
    {
     "data": {
      "text/html": [
       "<div>\n",
       "<style scoped>\n",
       "    .dataframe tbody tr th:only-of-type {\n",
       "        vertical-align: middle;\n",
       "    }\n",
       "\n",
       "    .dataframe tbody tr th {\n",
       "        vertical-align: top;\n",
       "    }\n",
       "\n",
       "    .dataframe thead th {\n",
       "        text-align: right;\n",
       "    }\n",
       "</style>\n",
       "<table border=\"1\" class=\"dataframe\">\n",
       "  <thead>\n",
       "    <tr style=\"text-align: right;\">\n",
       "      <th></th>\n",
       "      <th>userID</th>\n",
       "      <th>trackID</th>\n",
       "      <th>probability</th>\n",
       "      <th>rawPrediction</th>\n",
       "      <th>prediction</th>\n",
       "    </tr>\n",
       "  </thead>\n",
       "  <tbody>\n",
       "    <tr>\n",
       "      <th>0</th>\n",
       "      <td>199810</td>\n",
       "      <td>208019</td>\n",
       "      <td>[0.8085335903967381, 0.1914664096032619]</td>\n",
       "      <td>[0.7202549191270777, -0.7202549191270777]</td>\n",
       "      <td>0.0</td>\n",
       "    </tr>\n",
       "    <tr>\n",
       "      <th>1</th>\n",
       "      <td>199810</td>\n",
       "      <td>74139</td>\n",
       "      <td>[0.8085335903967381, 0.1914664096032619]</td>\n",
       "      <td>[0.7202549191270777, -0.7202549191270777]</td>\n",
       "      <td>0.0</td>\n",
       "    </tr>\n",
       "    <tr>\n",
       "      <th>2</th>\n",
       "      <td>199810</td>\n",
       "      <td>9903</td>\n",
       "      <td>[0.8085335903967381, 0.1914664096032619]</td>\n",
       "      <td>[0.7202549191270777, -0.7202549191270777]</td>\n",
       "      <td>0.0</td>\n",
       "    </tr>\n",
       "    <tr>\n",
       "      <th>3</th>\n",
       "      <td>199810</td>\n",
       "      <td>242681</td>\n",
       "      <td>[0.8085335903967381, 0.1914664096032619]</td>\n",
       "      <td>[0.7202549191270777, -0.7202549191270777]</td>\n",
       "      <td>0.0</td>\n",
       "    </tr>\n",
       "    <tr>\n",
       "      <th>4</th>\n",
       "      <td>199810</td>\n",
       "      <td>18515</td>\n",
       "      <td>[0.24633418901301743, 0.7536658109869826]</td>\n",
       "      <td>[-0.5591299711568518, 0.5591299711568518]</td>\n",
       "      <td>1.0</td>\n",
       "    </tr>\n",
       "  </tbody>\n",
       "</table>\n",
       "</div>"
      ],
      "text/plain": [
       "   userID  trackID                                probability  \\\n",
       "0  199810   208019   [0.8085335903967381, 0.1914664096032619]   \n",
       "1  199810    74139   [0.8085335903967381, 0.1914664096032619]   \n",
       "2  199810     9903   [0.8085335903967381, 0.1914664096032619]   \n",
       "3  199810   242681   [0.8085335903967381, 0.1914664096032619]   \n",
       "4  199810    18515  [0.24633418901301743, 0.7536658109869826]   \n",
       "\n",
       "                               rawPrediction  prediction  \n",
       "0  [0.7202549191270777, -0.7202549191270777]         0.0  \n",
       "1  [0.7202549191270777, -0.7202549191270777]         0.0  \n",
       "2  [0.7202549191270777, -0.7202549191270777]         0.0  \n",
       "3  [0.7202549191270777, -0.7202549191270777]         0.0  \n",
       "4  [-0.5591299711568518, 0.5591299711568518]         1.0  "
      ]
     },
     "execution_count": 85,
     "metadata": {},
     "output_type": "execute_result"
    }
   ],
   "source": [
    "sort_gradient_boosted_tree_classifier_predictions_df.head()"
   ]
  },
  {
   "cell_type": "code",
   "execution_count": 86,
   "id": "3c8be1d8",
   "metadata": {},
   "outputs": [],
   "source": [
    "columns = ['userID', 'trackID']\n",
    "sort_gradient_boosted_tree_classifier_predictions_df.to_csv('gradient_boosted_tree_classifier_predictions.csv', index=False, header=None, columns=columns)"
   ]
  },
  {
   "cell_type": "code",
   "execution_count": 87,
   "id": "251bf580",
   "metadata": {},
   "outputs": [],
   "source": [
    "gradient_boosted_tree_classifier_predictions_file = open('gradient_boosted_tree_classifier_predictions.csv')   \n",
    "final_gradient_boosted_tree_classifier_predictions_file = open('gradient_boosted_tree_classifier_submission.csv', 'w')"
   ]
  },
  {
   "cell_type": "code",
   "execution_count": 88,
   "id": "c3e8039b",
   "metadata": {},
   "outputs": [
    {
     "data": {
      "text/plain": [
       "18"
      ]
     },
     "execution_count": 88,
     "metadata": {},
     "output_type": "execute_result"
    }
   ],
   "source": [
    "final_gradient_boosted_tree_classifier_predictions_file.write('TrackID,Predictor\\n')"
   ]
  },
  {
   "cell_type": "code",
   "execution_count": 89,
   "id": "1900039a",
   "metadata": {},
   "outputs": [],
   "source": [
    "last_user_id = -1\n",
    "track_id_out_vec = [0] * 6"
   ]
  },
  {
   "cell_type": "code",
   "execution_count": 90,
   "id": "17b5d699",
   "metadata": {},
   "outputs": [],
   "source": [
    "for line in gradient_boosted_tree_classifier_predictions_file:\n",
    "    arr_out = line.strip().split(',')\n",
    "    user_id_out = arr_out[0]\n",
    "    track_id_out = arr_out[1]\n",
    "    \n",
    "    if user_id_out != last_user_id:\n",
    "        i = 0\n",
    "        \n",
    "    track_id_out_vec[i] = track_id_out\n",
    "        \n",
    "    i = i + 1\n",
    "    last_user_id = user_id_out\n",
    "    \n",
    "    if i == 6:\n",
    "        predictions = np.ones(shape=(6))\n",
    "        for index in range(0, 3):            \n",
    "            predictions[index] = 0\n",
    "        \n",
    "        for ii in range(0, 6):         \n",
    "            out_str = str(user_id_out) + '_' + str(track_id_out_vec[ii]) + ',' + str(int(predictions[ii]))\n",
    "            final_gradient_boosted_tree_classifier_predictions_file.write(out_str + '\\n')"
   ]
  },
  {
   "cell_type": "code",
   "execution_count": 91,
   "id": "d7614488",
   "metadata": {},
   "outputs": [],
   "source": [
    "gradient_boosted_tree_classifier_predictions_file.close()\n",
    "final_gradient_boosted_tree_classifier_predictions_file.close()"
   ]
  }
 ],
 "metadata": {
  "kernelspec": {
   "display_name": "Python 3 (ipykernel)",
   "language": "python",
   "name": "python3"
  },
  "language_info": {
   "codemirror_mode": {
    "name": "ipython",
    "version": 3
   },
   "file_extension": ".py",
   "mimetype": "text/x-python",
   "name": "python",
   "nbconvert_exporter": "python",
   "pygments_lexer": "ipython3",
   "version": "3.8.12"
  }
 },
 "nbformat": 4,
 "nbformat_minor": 5
}
