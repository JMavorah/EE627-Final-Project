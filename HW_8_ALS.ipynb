{
  "nbformat": 4,
  "nbformat_minor": 0,
  "metadata": {
    "colab": {
      "name": "HW_8/ALS.ipynb",
      "provenance": [],
      "collapsed_sections": []
    },
    "kernelspec": {
      "name": "python3",
      "display_name": "Python 3"
    },
    "language_info": {
      "name": "python"
    }
  },
  "cells": [
    {
      "cell_type": "code",
      "metadata": {
        "colab": {
          "base_uri": "https://localhost:8080/"
        },
        "id": "dS7050CI7CTz",
        "outputId": "ba4f8ce5-d19c-4dd5-9d14-c12575fc32b7"
      },
      "source": [
        "from google.colab import drive\n",
        "drive.mount('/content/drive')"
      ],
      "execution_count": 2,
      "outputs": [
        {
          "output_type": "stream",
          "name": "stdout",
          "text": [
            "Mounted at /content/drive\n"
          ]
        }
      ]
    },
    {
      "cell_type": "code",
      "metadata": {
        "colab": {
          "base_uri": "https://localhost:8080/"
        },
        "id": "Sow53j3a7OQb",
        "outputId": "30926cf1-0862-43a2-9d27-f2b21a27e46b"
      },
      "source": [
        "!pip install pyspark"
      ],
      "execution_count": 3,
      "outputs": [
        {
          "output_type": "stream",
          "name": "stdout",
          "text": [
            "Collecting pyspark\n",
            "  Downloading pyspark-3.2.0.tar.gz (281.3 MB)\n",
            "\u001b[K     |████████████████████████████████| 281.3 MB 41 kB/s \n",
            "\u001b[?25hCollecting py4j==0.10.9.2\n",
            "  Downloading py4j-0.10.9.2-py2.py3-none-any.whl (198 kB)\n",
            "\u001b[K     |████████████████████████████████| 198 kB 62.6 MB/s \n",
            "\u001b[?25hBuilding wheels for collected packages: pyspark\n",
            "  Building wheel for pyspark (setup.py) ... \u001b[?25l\u001b[?25hdone\n",
            "  Created wheel for pyspark: filename=pyspark-3.2.0-py2.py3-none-any.whl size=281805912 sha256=d046cc179e5a20275d823c2f1b5e516fd30630dab3946bd0d4fd7cd480cd33bc\n",
            "  Stored in directory: /root/.cache/pip/wheels/0b/de/d2/9be5d59d7331c6c2a7c1b6d1a4f463ce107332b1ecd4e80718\n",
            "Successfully built pyspark\n",
            "Installing collected packages: py4j, pyspark\n",
            "Successfully installed py4j-0.10.9.2 pyspark-3.2.0\n"
          ]
        }
      ]
    },
    {
      "cell_type": "code",
      "metadata": {
        "id": "-0fCc8D57OWq"
      },
      "source": [
        "from pyspark.sql import SparkSession\n",
        "spark = SparkSession.builder\\\n",
        "        .master(\"local\")\\\n",
        "        .appName(\"Colab\")\\\n",
        "        .config('spark.ui.port', '4050')\\\n",
        "        .getOrCreate()"
      ],
      "execution_count": 4,
      "outputs": []
    },
    {
      "cell_type": "code",
      "metadata": {
        "colab": {
          "base_uri": "https://localhost:8080/",
          "height": 216
        },
        "id": "vFs5KJxM7OZx",
        "outputId": "9ffdc74d-beaa-43c4-948a-433496ff0087"
      },
      "source": [
        "spark"
      ],
      "execution_count": 5,
      "outputs": [
        {
          "output_type": "execute_result",
          "data": {
            "text/html": [
              "\n",
              "            <div>\n",
              "                <p><b>SparkSession - in-memory</b></p>\n",
              "                \n",
              "        <div>\n",
              "            <p><b>SparkContext</b></p>\n",
              "\n",
              "            <p><a href=\"http://6bba229ed538:4050\">Spark UI</a></p>\n",
              "\n",
              "            <dl>\n",
              "              <dt>Version</dt>\n",
              "                <dd><code>v3.2.0</code></dd>\n",
              "              <dt>Master</dt>\n",
              "                <dd><code>local</code></dd>\n",
              "              <dt>AppName</dt>\n",
              "                <dd><code>Colab</code></dd>\n",
              "            </dl>\n",
              "        </div>\n",
              "        \n",
              "            </div>\n",
              "        "
            ],
            "text/plain": [
              "<pyspark.sql.session.SparkSession at 0x7fc82007c790>"
            ]
          },
          "metadata": {},
          "execution_count": 5
        }
      ]
    },
    {
      "cell_type": "code",
      "metadata": {
        "id": "M5cA6mqP7OcH"
      },
      "source": [
        "# load pyspark modules\n",
        "from pyspark.ml.evaluation import RegressionEvaluator    \n",
        "from pyspark.ml.recommendation import ALS    \n",
        "from pyspark.sql.types import IntegerType       \n",
        "from os import path   \n",
        "import pandas as pd   \n",
        "import numpy                             \n",
        "import shutil"
      ],
      "execution_count": 6,
      "outputs": []
    },
    {
      "cell_type": "code",
      "metadata": {
        "colab": {
          "base_uri": "https://localhost:8080/"
        },
        "id": "WMKihbRV7Oe_",
        "outputId": "1865f849-0b4d-4d78-8caa-e253cc273cab"
      },
      "source": [
        "training_df = spark.read.csv(\"trainItem.data\", header = False)\n",
        "training_df.show(5)"
      ],
      "execution_count": 7,
      "outputs": [
        {
          "output_type": "stream",
          "name": "stdout",
          "text": [
            "+------+------+---+\n",
            "|   _c0|   _c1|_c2|\n",
            "+------+------+---+\n",
            "|199808|248969| 90|\n",
            "|199808|  2663| 90|\n",
            "|199808| 28341| 90|\n",
            "|199808| 42563| 90|\n",
            "|199808| 59092| 90|\n",
            "+------+------+---+\n",
            "only showing top 5 rows\n",
            "\n"
          ]
        }
      ]
    },
    {
      "cell_type": "code",
      "metadata": {
        "colab": {
          "base_uri": "https://localhost:8080/"
        },
        "id": "XMhB6yM47OiG",
        "outputId": "6ec40546-01ac-462e-9e8c-4bd492e6b629"
      },
      "source": [
        "training_df.count()"
      ],
      "execution_count": 8,
      "outputs": [
        {
          "output_type": "execute_result",
          "data": {
            "text/plain": [
              "12403575"
            ]
          },
          "metadata": {},
          "execution_count": 8
        }
      ]
    },
    {
      "cell_type": "code",
      "metadata": {
        "id": "eWhxeM6g7Oku"
      },
      "source": [
        "training_df = training_df.withColumnRenamed('_c0', 'userID').withColumnRenamed('_c1', 'itemID').withColumnRenamed('_c2', 'rating')"
      ],
      "execution_count": 9,
      "outputs": []
    },
    {
      "cell_type": "code",
      "metadata": {
        "colab": {
          "base_uri": "https://localhost:8080/"
        },
        "id": "ZAgxOTmO7Oo4",
        "outputId": "61b61ae8-dfef-4be6-c8b5-eef4d4409f43"
      },
      "source": [
        "training_df.dtypes"
      ],
      "execution_count": 10,
      "outputs": [
        {
          "output_type": "execute_result",
          "data": {
            "text/plain": [
              "[('userID', 'string'), ('itemID', 'string'), ('rating', 'string')]"
            ]
          },
          "metadata": {},
          "execution_count": 10
        }
      ]
    },
    {
      "cell_type": "code",
      "metadata": {
        "id": "nqixv-sm7Orx"
      },
      "source": [
        "training_df = training_df.withColumn('userID', training_df['userID'].cast(IntegerType()))\n",
        "training_df = training_df.withColumn('itemID', training_df['itemID'].cast(IntegerType()))\n",
        "training_df = training_df.withColumn('rating', training_df['rating'].cast('float'))"
      ],
      "execution_count": 11,
      "outputs": []
    },
    {
      "cell_type": "code",
      "metadata": {
        "colab": {
          "base_uri": "https://localhost:8080/"
        },
        "id": "mO1mfxt07gAE",
        "outputId": "696eea07-9c6f-4bbd-9f0a-51780f1f9c85"
      },
      "source": [
        "training_df.dtypes"
      ],
      "execution_count": 12,
      "outputs": [
        {
          "output_type": "execute_result",
          "data": {
            "text/plain": [
              "[('userID', 'int'), ('itemID', 'int'), ('rating', 'float')]"
            ]
          },
          "metadata": {},
          "execution_count": 12
        }
      ]
    },
    {
      "cell_type": "code",
      "metadata": {
        "id": "mJoezkwL7gC5"
      },
      "source": [
        "als = ALS(\n",
        "    maxIter=5,              \n",
        "    rank=5,                 \n",
        "    regParam=0.01,            \n",
        "    userCol=\"userID\",       \n",
        "    itemCol=\"itemID\",        \n",
        "    ratingCol=\"rating\",      \n",
        "    nonnegative = True,      \n",
        "    implicitPrefs = False    \n",
        ")"
      ],
      "execution_count": 13,
      "outputs": []
    },
    {
      "cell_type": "code",
      "metadata": {
        "id": "4hDvWirc7gFw"
      },
      "source": [
        "model = als.fit(training_df)"
      ],
      "execution_count": 14,
      "outputs": []
    },
    {
      "cell_type": "code",
      "metadata": {
        "colab": {
          "base_uri": "https://localhost:8080/"
        },
        "id": "GH94ZQGN7gIY",
        "outputId": "9475072f-aa6d-4a84-8bee-f1b85a99111a"
      },
      "source": [
        "testing_df = spark.read.csv('testItem.data', header=False)\n",
        "testing_df.show(5)"
      ],
      "execution_count": 15,
      "outputs": [
        {
          "output_type": "stream",
          "name": "stdout",
          "text": [
            "+------+------+---+\n",
            "|   _c0|   _c1|_c2|\n",
            "+------+------+---+\n",
            "|199810|208019|  0|\n",
            "|199810| 74139|  0|\n",
            "|199810|  9903|  0|\n",
            "|199810|242681|  0|\n",
            "|199810| 18515|  0|\n",
            "+------+------+---+\n",
            "only showing top 5 rows\n",
            "\n"
          ]
        }
      ]
    },
    {
      "cell_type": "code",
      "metadata": {
        "colab": {
          "base_uri": "https://localhost:8080/"
        },
        "id": "FCbZ-xw57gKu",
        "outputId": "e1638e93-232a-4902-cf15-dc1101fd0a87"
      },
      "source": [
        "testing_df.count()"
      ],
      "execution_count": 16,
      "outputs": [
        {
          "output_type": "execute_result",
          "data": {
            "text/plain": [
              "120000"
            ]
          },
          "metadata": {},
          "execution_count": 16
        }
      ]
    },
    {
      "cell_type": "code",
      "metadata": {
        "id": "UwAz03jr7OvJ"
      },
      "source": [
        "testing_df = testing_df.withColumnRenamed(\"_c0\", \"userID\").withColumnRenamed(\"_c1\", \"itemID\").withColumnRenamed(\"_c2\", \"rating\")"
      ],
      "execution_count": 17,
      "outputs": []
    },
    {
      "cell_type": "code",
      "metadata": {
        "colab": {
          "base_uri": "https://localhost:8080/"
        },
        "id": "ELhxQLrT7OyR",
        "outputId": "cb554fd5-3838-4cc9-99c3-81a3261ca659"
      },
      "source": [
        "testing_df.dtypes"
      ],
      "execution_count": 18,
      "outputs": [
        {
          "output_type": "execute_result",
          "data": {
            "text/plain": [
              "[('userID', 'string'), ('itemID', 'string'), ('rating', 'string')]"
            ]
          },
          "metadata": {},
          "execution_count": 18
        }
      ]
    },
    {
      "cell_type": "code",
      "metadata": {
        "id": "6wdL_ZhB7O1Y"
      },
      "source": [
        "testing_df = testing_df.withColumn(\"userID\", testing_df[\"userID\"].cast(IntegerType()))\n",
        "testing_df = testing_df.withColumn(\"itemID\", testing_df[\"itemID\"].cast(IntegerType()))\n",
        "testing_df = testing_df.withColumn(\"rating\", testing_df[\"rating\"].cast('float'))"
      ],
      "execution_count": 19,
      "outputs": []
    },
    {
      "cell_type": "code",
      "metadata": {
        "colab": {
          "base_uri": "https://localhost:8080/"
        },
        "id": "l9allxsv7O4g",
        "outputId": "7833ed0c-59cb-41fd-8b84-6064f21c9543"
      },
      "source": [
        "testing_df.dtypes"
      ],
      "execution_count": 20,
      "outputs": [
        {
          "output_type": "execute_result",
          "data": {
            "text/plain": [
              "[('userID', 'int'), ('itemID', 'int'), ('rating', 'float')]"
            ]
          },
          "metadata": {},
          "execution_count": 20
        }
      ]
    },
    {
      "cell_type": "code",
      "metadata": {
        "id": "ILPoThlB7O7H"
      },
      "source": [
        "predictions = model.transform(testing_df)"
      ],
      "execution_count": 26,
      "outputs": []
    },
    {
      "cell_type": "code",
      "metadata": {
        "id": "OW4d-cij-Tc7"
      },
      "source": [
        "predictions = predictions.drop('rating')"
      ],
      "execution_count": 27,
      "outputs": []
    },
    {
      "cell_type": "code",
      "metadata": {
        "colab": {
          "base_uri": "https://localhost:8080/"
        },
        "id": "3u6eR6B08Bfj",
        "outputId": "45217722-c264-478b-c1cf-13e68162d957"
      },
      "source": [
        "predictions.show(5)"
      ],
      "execution_count": 28,
      "outputs": [
        {
          "output_type": "stream",
          "name": "stdout",
          "text": [
            "+------+------+----------+\n",
            "|userID|itemID|prediction|\n",
            "+------+------+----------+\n",
            "|199810|  9903| 15.583747|\n",
            "|199810| 18515|  83.21027|\n",
            "|199810| 74139| 39.558212|\n",
            "|199810|105760|  75.45437|\n",
            "|199810|208019| 60.328117|\n",
            "+------+------+----------+\n",
            "only showing top 5 rows\n",
            "\n"
          ]
        }
      ]
    },
    {
      "cell_type": "code",
      "metadata": {
        "colab": {
          "base_uri": "https://localhost:8080/"
        },
        "id": "_wztzmoG8Bku",
        "outputId": "00b64939-d9d5-4b63-b46d-434792c1da2d"
      },
      "source": [
        "predictions.count()"
      ],
      "execution_count": 29,
      "outputs": [
        {
          "output_type": "execute_result",
          "data": {
            "text/plain": [
              "120000"
            ]
          },
          "metadata": {},
          "execution_count": 29
        }
      ]
    },
    {
      "cell_type": "code",
      "metadata": {
        "id": "S6aPBy-F8Bnm"
      },
      "source": [
        "if path.exists('predictions'):\n",
        "    shutil.rmtree('predictions')"
      ],
      "execution_count": 30,
      "outputs": []
    },
    {
      "cell_type": "code",
      "metadata": {
        "id": "tXV7s_Sv8BqM"
      },
      "source": [
        "predictions.coalesce(numPartitions=1).write.csv(\"predictions\")"
      ],
      "execution_count": 31,
      "outputs": []
    },
    {
      "cell_type": "code",
      "metadata": {
        "id": "3xrD8UU-8Bs1"
      },
      "source": [
        "predictions.toPandas().to_csv('myprediction.csv')"
      ],
      "execution_count": 32,
      "outputs": []
    },
    {
      "cell_type": "code",
      "metadata": {
        "id": "BNEYDreU8Bva"
      },
      "source": [
        "ratings_file = 'myprediction.csv'\n",
        "predictions_file = 'predictions.csv'\n",
        "als_submission_file = 'als_submission_2.csv'\n",
        "\n",
        "f_ratings = open(ratings_file)\n",
        "f_predictions = open(predictions_file, 'w')\n",
        "f_als_submission = open(als_submission_file, 'w')"
      ],
      "execution_count": 48,
      "outputs": []
    },
    {
      "cell_type": "code",
      "metadata": {
        "colab": {
          "base_uri": "https://localhost:8080/"
        },
        "id": "KPSgHNnm8ByB",
        "outputId": "f6ba196b-27b5-4c72-d55e-ac4267847288"
      },
      "source": [
        "f_als_submission.write('TrackID,Predictor\\n')"
      ],
      "execution_count": 49,
      "outputs": [
        {
          "output_type": "execute_result",
          "data": {
            "text/plain": [
              "18"
            ]
          },
          "metadata": {},
          "execution_count": 49
        }
      ]
    },
    {
      "cell_type": "code",
      "metadata": {
        "id": "mN-_pa5c8B0p"
      },
      "source": [
        "column_list = ('userID', 'itemID', 'prediction')\n",
        "ratings_df = pd.read_csv(ratings_file, usecols=column_list)"
      ],
      "execution_count": 50,
      "outputs": []
    },
    {
      "cell_type": "code",
      "metadata": {
        "id": "1LCMUdog8B3O"
      },
      "source": [
        "ratings_df['prediction'] = ratings_df['prediction'].fillna(50.0)"
      ],
      "execution_count": 51,
      "outputs": []
    },
    {
      "cell_type": "code",
      "metadata": {
        "colab": {
          "base_uri": "https://localhost:8080/",
          "height": 419
        },
        "id": "SZYCN6Sy8B52",
        "outputId": "14303465-1b22-4505-83a2-7f6336b7cf01"
      },
      "source": [
        "ratings_df"
      ],
      "execution_count": 52,
      "outputs": [
        {
          "output_type": "execute_result",
          "data": {
            "text/html": [
              "<div>\n",
              "<style scoped>\n",
              "    .dataframe tbody tr th:only-of-type {\n",
              "        vertical-align: middle;\n",
              "    }\n",
              "\n",
              "    .dataframe tbody tr th {\n",
              "        vertical-align: top;\n",
              "    }\n",
              "\n",
              "    .dataframe thead th {\n",
              "        text-align: right;\n",
              "    }\n",
              "</style>\n",
              "<table border=\"1\" class=\"dataframe\">\n",
              "  <thead>\n",
              "    <tr style=\"text-align: right;\">\n",
              "      <th></th>\n",
              "      <th>userID</th>\n",
              "      <th>itemID</th>\n",
              "      <th>prediction</th>\n",
              "    </tr>\n",
              "  </thead>\n",
              "  <tbody>\n",
              "    <tr>\n",
              "      <th>0</th>\n",
              "      <td>233686</td>\n",
              "      <td>1</td>\n",
              "      <td>43.141533</td>\n",
              "    </tr>\n",
              "    <tr>\n",
              "      <th>1</th>\n",
              "      <td>215400</td>\n",
              "      <td>3</td>\n",
              "      <td>37.245644</td>\n",
              "    </tr>\n",
              "    <tr>\n",
              "      <th>2</th>\n",
              "      <td>224379</td>\n",
              "      <td>5</td>\n",
              "      <td>13.557379</td>\n",
              "    </tr>\n",
              "    <tr>\n",
              "      <th>3</th>\n",
              "      <td>200179</td>\n",
              "      <td>13</td>\n",
              "      <td>44.289536</td>\n",
              "    </tr>\n",
              "    <tr>\n",
              "      <th>4</th>\n",
              "      <td>199859</td>\n",
              "      <td>17</td>\n",
              "      <td>17.466816</td>\n",
              "    </tr>\n",
              "    <tr>\n",
              "      <th>...</th>\n",
              "      <td>...</td>\n",
              "      <td>...</td>\n",
              "      <td>...</td>\n",
              "    </tr>\n",
              "    <tr>\n",
              "      <th>119995</th>\n",
              "      <td>203390</td>\n",
              "      <td>296078</td>\n",
              "      <td>68.375640</td>\n",
              "    </tr>\n",
              "    <tr>\n",
              "      <th>119996</th>\n",
              "      <td>232887</td>\n",
              "      <td>296081</td>\n",
              "      <td>8.313974</td>\n",
              "    </tr>\n",
              "    <tr>\n",
              "      <th>119997</th>\n",
              "      <td>239053</td>\n",
              "      <td>296095</td>\n",
              "      <td>76.775620</td>\n",
              "    </tr>\n",
              "    <tr>\n",
              "      <th>119998</th>\n",
              "      <td>204230</td>\n",
              "      <td>296098</td>\n",
              "      <td>0.000000</td>\n",
              "    </tr>\n",
              "    <tr>\n",
              "      <th>119999</th>\n",
              "      <td>240059</td>\n",
              "      <td>296099</td>\n",
              "      <td>16.176300</td>\n",
              "    </tr>\n",
              "  </tbody>\n",
              "</table>\n",
              "<p>120000 rows × 3 columns</p>\n",
              "</div>"
            ],
            "text/plain": [
              "        userID  itemID  prediction\n",
              "0       233686       1   43.141533\n",
              "1       215400       3   37.245644\n",
              "2       224379       5   13.557379\n",
              "3       200179      13   44.289536\n",
              "4       199859      17   17.466816\n",
              "...        ...     ...         ...\n",
              "119995  203390  296078   68.375640\n",
              "119996  232887  296081    8.313974\n",
              "119997  239053  296095   76.775620\n",
              "119998  204230  296098    0.000000\n",
              "119999  240059  296099   16.176300\n",
              "\n",
              "[120000 rows x 3 columns]"
            ]
          },
          "metadata": {},
          "execution_count": 52
        }
      ]
    },
    {
      "cell_type": "code",
      "metadata": {
        "id": "Gih_xcL78QFa"
      },
      "source": [
        "ratings_df.sort_values([\"userID\", \"prediction\"], ascending = (True, False), inplace=True)"
      ],
      "execution_count": 53,
      "outputs": []
    },
    {
      "cell_type": "code",
      "metadata": {
        "id": "9Fkp8dfJ8QH-"
      },
      "source": [
        "ratings_df.reset_index(drop=True, inplace=True)"
      ],
      "execution_count": 54,
      "outputs": []
    },
    {
      "cell_type": "code",
      "metadata": {
        "colab": {
          "base_uri": "https://localhost:8080/",
          "height": 204
        },
        "id": "LnJtnu7t8QKu",
        "outputId": "26a01b69-e531-45c1-8474-1cb7e03b64ea"
      },
      "source": [
        "ratings_df.head(5)"
      ],
      "execution_count": 55,
      "outputs": [
        {
          "output_type": "execute_result",
          "data": {
            "text/html": [
              "<div>\n",
              "<style scoped>\n",
              "    .dataframe tbody tr th:only-of-type {\n",
              "        vertical-align: middle;\n",
              "    }\n",
              "\n",
              "    .dataframe tbody tr th {\n",
              "        vertical-align: top;\n",
              "    }\n",
              "\n",
              "    .dataframe thead th {\n",
              "        text-align: right;\n",
              "    }\n",
              "</style>\n",
              "<table border=\"1\" class=\"dataframe\">\n",
              "  <thead>\n",
              "    <tr style=\"text-align: right;\">\n",
              "      <th></th>\n",
              "      <th>userID</th>\n",
              "      <th>itemID</th>\n",
              "      <th>prediction</th>\n",
              "    </tr>\n",
              "  </thead>\n",
              "  <tbody>\n",
              "    <tr>\n",
              "      <th>0</th>\n",
              "      <td>199810</td>\n",
              "      <td>18515</td>\n",
              "      <td>83.210270</td>\n",
              "    </tr>\n",
              "    <tr>\n",
              "      <th>1</th>\n",
              "      <td>199810</td>\n",
              "      <td>105760</td>\n",
              "      <td>75.454370</td>\n",
              "    </tr>\n",
              "    <tr>\n",
              "      <th>2</th>\n",
              "      <td>199810</td>\n",
              "      <td>208019</td>\n",
              "      <td>60.328117</td>\n",
              "    </tr>\n",
              "    <tr>\n",
              "      <th>3</th>\n",
              "      <td>199810</td>\n",
              "      <td>74139</td>\n",
              "      <td>39.558212</td>\n",
              "    </tr>\n",
              "    <tr>\n",
              "      <th>4</th>\n",
              "      <td>199810</td>\n",
              "      <td>242681</td>\n",
              "      <td>38.155624</td>\n",
              "    </tr>\n",
              "  </tbody>\n",
              "</table>\n",
              "</div>"
            ],
            "text/plain": [
              "   userID  itemID  prediction\n",
              "0  199810   18515   83.210270\n",
              "1  199810  105760   75.454370\n",
              "2  199810  208019   60.328117\n",
              "3  199810   74139   39.558212\n",
              "4  199810  242681   38.155624"
            ]
          },
          "metadata": {},
          "execution_count": 55
        }
      ]
    },
    {
      "cell_type": "code",
      "metadata": {
        "id": "ZP1nJq7g8QNc"
      },
      "source": [
        "ratings_df.to_csv('predictions.csv', index=False, header=False)"
      ],
      "execution_count": 56,
      "outputs": []
    },
    {
      "cell_type": "code",
      "metadata": {
        "id": "qw-u2gl98QQU"
      },
      "source": [
        "f_predictions.close()"
      ],
      "execution_count": 57,
      "outputs": []
    },
    {
      "cell_type": "code",
      "metadata": {
        "id": "_TosaK0E8QS6"
      },
      "source": [
        "f_predictions = open(predictions_file)"
      ],
      "execution_count": 58,
      "outputs": []
    },
    {
      "cell_type": "code",
      "metadata": {
        "id": "aorvDNcN8QVh"
      },
      "source": [
        "ratings_array = numpy.zeros(shape=(6))\n",
        "last_user_id = -1\n",
        "track_id_out_vec = [0] * 6"
      ],
      "execution_count": 59,
      "outputs": []
    },
    {
      "cell_type": "code",
      "metadata": {
        "id": "gl18HL9U8aWr"
      },
      "source": [
        "for line in f_predictions:\n",
        "    arr_out = line.strip().split(',')     \n",
        "    user_id_out = arr_out[0]            \n",
        "    track_id_out = arr_out[1]            \n",
        "    rating = float(arr_out[2])           \n",
        "    \n",
        "    if user_id_out != last_user_id:             \n",
        "        i = 0                                   \n",
        "        ratings_array = numpy.zeros(shape=(6))  \n",
        "        \n",
        "    ratings_array[i] = rating                   \n",
        "    track_id_out_vec[i] = track_id_out          \n",
        "        \n",
        "    i = i + 1                    \n",
        "    last_user_id = user_id_out   \n",
        "    \n",
        "    if i == 6:                               \n",
        "         \n",
        "        predictions = numpy.zeros(shape=(6)) \n",
        "        for index in range(0, 3):            \n",
        "            predictions[index] = 1           \n",
        "        \n",
        "        for ii in range(0, 6):         \n",
        "            out_str = str(user_id_out) + '_' + str(track_id_out_vec[ii]) + ',' + str(int(predictions[ii]))\n",
        "            f_als_submission.write(out_str + '\\n')"
      ],
      "execution_count": 60,
      "outputs": []
    },
    {
      "cell_type": "code",
      "metadata": {
        "id": "cV4qjAfr8aZQ"
      },
      "source": [
        "f_ratings.close()\n",
        "f_predictions.close()\n",
        "f_als_submission.close()"
      ],
      "execution_count": 61,
      "outputs": []
    }
  ]
}